{
 "cells": [
  {
   "cell_type": "markdown",
   "metadata": {},
   "source": [
    "# Objetos y mensajes\n"
   ]
  },
  {
   "cell_type": "markdown",
   "metadata": {},
   "source": [
    "Cada vez que introduces una url como http://www.amazon.com en un navegador web, el navegador transforma eso en una peticion HTTP. Un servidor web recibe la peticion y decide que hacer con ella: a veces ejecuta una pieza de codigo, a veces solo regresa un documento existente, a veces se niega a hacer algo con el mensaje y a veces no tiene ni idea de que hacer con el. "
   ]
  },
  {
   "cell_type": "markdown",
   "metadata": {},
   "source": [
    "Esta es en esencia la idea de la programacion orientada a objetos. "
   ]
  },
  {
   "cell_type": "markdown",
   "metadata": {},
   "source": [
    "_Un objeto es solo una cosa que responde mensajes._"
   ]
  },
  {
   "cell_type": "markdown",
   "metadata": {},
   "source": [
    "## Mensajes y metodos"
   ]
  },
  {
   "cell_type": "markdown",
   "metadata": {
    "vscode": {
     "languageId": "polyglot-notebook"
    }
   },
   "source": [
    "El codigo que se ejecuta en respuesta a un _mensaje_ se llama _metodo_."
   ]
  },
  {
   "cell_type": "markdown",
   "metadata": {},
   "source": [
    "En la mayoria de los lenguajes, la forma de declarar un mensaje es implementar un metodo. Esto crea una confusion llevandonos a pensar que los metodos son los mensajes."
   ]
  },
  {
   "cell_type": "markdown",
   "metadata": {},
   "source": [
    "Para ilustrar la diferencia, considera esta implementacion en Python:"
   ]
  },
  {
   "cell_type": "code",
   "execution_count": null,
   "metadata": {
    "vscode": {
     "languageId": "polyglot-notebook"
    }
   },
   "outputs": [],
   "source": [
    "#!connect jupyter --kernel-name pythonkernel --kernel-spec python3"
   ]
  },
  {
   "cell_type": "code",
   "execution_count": null,
   "metadata": {
    "dotnet_interactive": {
     "language": "pythonkernel"
    },
    "polyglot_notebook": {
     "kernelName": "pythonkernel"
    },
    "vscode": {
     "languageId": "polyglot-notebook"
    }
   },
   "outputs": [],
   "source": [
    "class Persona:\n",
    "    def __getattr__(self, msg):\n",
    "        if msg == 'nombre':\n",
    "            return 'Juan'\n",
    "        elif msg == 'edad':\n",
    "            return 25\n",
    "        elif msg == 'profesion':\n",
    "            return 'Desarrollador'\n",
    "        else:\n",
    "            raise AttributeError(f'No entiendo el mensaje {msg}')\n",
    "\n",
    "p = Persona()\n",
    "print(p.nombre)\n",
    "print(p.edad)\n",
    "print(p.profesion)\n",
    "print(p.hobbies)"
   ]
  },
  {
   "cell_type": "markdown",
   "metadata": {
    "vscode": {
     "languageId": "polyglot-notebook"
    }
   },
   "source": [
    "Como puedes ver, una sola funcion decide el metodo que se va a ejecutar para responder a un mensaje. Algo asi (aunque mas complejo) es lo que sucede detras de camaras en los lenguajes que soportan programacion orientada a objetos. Como no podemos definir el mensaje de antemano, ni el metodo que usaremos para responder a el, la mayoria de los lenguajes usan una convencion: declara una funcion publica en el objeto (o clase) y eso sera el metodo que responda al mensaje. De manera general podemos pensar en que el mensaje es la firma de una funcion publica en el objeto mientras que su codigo es el metodo (excepto en python). "
   ]
  },
  {
   "cell_type": "markdown",
   "metadata": {},
   "source": [
    "## Mensajes y Contratos"
   ]
  },
  {
   "cell_type": "markdown",
   "metadata": {},
   "source": [
    "Aunque dijimos que no podemos definir los mensajes de antemano, eso no es del todo cierto. Bertrand Meyer, introdujo el concepto de _contrato_: un conjunto de mensajes a los que responde cualquier objeto que cumpla con el. Observa el siguiente codigo en C#:"
   ]
  },
  {
   "cell_type": "code",
   "execution_count": 5,
   "metadata": {
    "dotnet_interactive": {
     "language": "csharp"
    },
    "polyglot_notebook": {
     "kernelName": "csharp"
    },
    "vscode": {
     "languageId": "polyglot-notebook"
    }
   },
   "outputs": [],
   "source": [
    "public interface Contrato_A {\n",
    "    void Mensaje1();\n",
    "    void Mensaje2();\n",
    "} "
   ]
  },
  {
   "cell_type": "markdown",
   "metadata": {},
   "source": [
    "Asi es, muchos lenguajes implementan los contratos como _interfaces_! Al adherirse a un contrato un objeto provee los metodos para responder a esos mensajes. (Tip, el metodo es el codigo despues de =>)"
   ]
  },
  {
   "cell_type": "code",
   "execution_count": null,
   "metadata": {
    "dotnet_interactive": {
     "language": "csharp"
    },
    "polyglot_notebook": {
     "kernelName": "csharp"
    },
    "vscode": {
     "languageId": "polyglot-notebook"
    }
   },
   "outputs": [],
   "source": [
    "class Clase_X: Contrato_A {\n",
    "    public void Mensaje1() => Console.WriteLine(\"Yo hago las cosas...\");\n",
    "    public void Mensaje2() => Console.WriteLine(\"a mi manera!\");\n",
    "    public void Mensaje3() => Console.WriteLine(\"Este mensaje no es parte del contrato pero igual respondo...\");\n",
    "}\n",
    "\n",
    "var a = new Clase_X();\n",
    "a.Mensaje1();\n",
    "a.Mensaje2();\n",
    "a.Mensaje3();"
   ]
  },
  {
   "cell_type": "markdown",
   "metadata": {},
   "source": [
    "Otra forma de definir un contrato es usando una clase abstracta: "
   ]
  },
  {
   "cell_type": "code",
   "execution_count": 7,
   "metadata": {
    "dotnet_interactive": {
     "language": "csharp"
    },
    "polyglot_notebook": {
     "kernelName": "csharp"
    },
    "vscode": {
     "languageId": "polyglot-notebook"
    }
   },
   "outputs": [],
   "source": [
    "public abstract class Contrato_B {\n",
    "    public abstract void Mensaje1();\n",
    "    public abstract void Mensaje2();\n",
    "}"
   ]
  },
  {
   "cell_type": "markdown",
   "metadata": {},
   "source": [
    "Para efectos practicos interfaces y clases abstractas son la misma cosa. Semanticamente hay algunas diferencias muy sutiles pero no es algo en lo que vamos a adentrarnos hoy."
   ]
  },
  {
   "cell_type": "markdown",
   "metadata": {},
   "source": [
    "## Metodos y Clases"
   ]
  },
  {
   "cell_type": "markdown",
   "metadata": {},
   "source": [
    "Como ya hemos visto, una clase puede ser usada para definir los mensajes a los que responde un objeto (_contrato_). La parte interesante es que tambien puede contener los metodos que responden a esos mensajes. Quiza no lo sabias pero si un objeto es generado por una clase, los metodos que se ejecutan no viven en el. Esto es mucho mas claro en Python:"
   ]
  },
  {
   "cell_type": "code",
   "execution_count": null,
   "metadata": {
    "dotnet_interactive": {
     "language": "pythonkernel"
    },
    "polyglot_notebook": {
     "kernelName": "pythonkernel"
    },
    "vscode": {
     "languageId": "polyglot-notebook"
    }
   },
   "outputs": [],
   "source": [
    "class Perro:\n",
    "    def ladra(objeto):\n",
    "        print(f'{objeto} está ladrando...')\n",
    "\n",
    "pulgoso = Perro()\n",
    "pulgoso.ladra()"
   ]
  },
  {
   "cell_type": "markdown",
   "metadata": {},
   "source": [
    "Como puedes ver el metodo ladra recibe un objeto como argumento. Pero cuando enviamos el mensaje ladra() a pulgoso no pasamos ningun argumento."
   ]
  },
  {
   "cell_type": "markdown",
   "metadata": {},
   "source": [
    "Mmm... El mensaje no lleva ningun argumento pero el metodo si. Que esta pasando aqui?? En realidad es el entorno de ejecucion quien se encarga de pasar el objeto 'pulgoso' al metodo ladra en la clase. En C# y otros lenguages esta referencia se llama self o this y como ni siquiera tienes que declararla en los argumentos del metodo, no te das cuenta de lo que esta pasando."
   ]
  },
  {
   "cell_type": "markdown",
   "metadata": {},
   "source": [
    "Poner los metodos en una clase es util por que de otra manera tendriamos que duplicar los _metodos_ para responder a los _mensajes_ definidos por un _contrato_ en cada _objeto_ que lo implemente (a menos claro que quisieramos una implementacion diferente para cada objeto)"
   ]
  },
  {
   "cell_type": "markdown",
   "metadata": {},
   "source": [
    "## Metodos fuera de las clases"
   ]
  },
  {
   "cell_type": "markdown",
   "metadata": {},
   "source": [
    "### Delegacion"
   ]
  },
  {
   "cell_type": "markdown",
   "metadata": {},
   "source": [
    "En ocasiones los metodos que van a responder a un mensaje no viven en una clase, sino en otro objeto. Esto se llama _delegacion_. Basicamente enviamos un mensaje a otra objeto para que el responda por nosotros. Observa el siguiente ejemplo en javascript (tip, el metodo es el codigo despues de 'saludo:')."
   ]
  },
  {
   "cell_type": "code",
   "execution_count": null,
   "metadata": {
    "dotnet_interactive": {
     "language": "javascript"
    },
    "polyglot_notebook": {
     "kernelName": "javascript"
    },
    "vscode": {
     "languageId": "polyglot-notebook"
    }
   },
   "outputs": [],
   "source": [
    "const objeto1 = {\n",
    "    saludo: function() {\n",
    "        console.log('Hola desde objeto 1');\n",
    "    },\n",
    "}\n",
    "\n",
    "const objeto2 = {\n",
    "    saludo: objeto1.saludo\n",
    "}\n",
    "\n",
    "objeto2.saludo();"
   ]
  },
  {
   "cell_type": "markdown",
   "metadata": {},
   "source": [
    "Lo importante aqui es que el objeto2 _delega_ la responsabilidad de contestar al objeto1."
   ]
  },
  {
   "cell_type": "markdown",
   "metadata": {
    "vscode": {
     "languageId": "polyglot-notebook"
    }
   },
   "source": [
    "### Closures"
   ]
  },
  {
   "cell_type": "markdown",
   "metadata": {},
   "source": [
    "Un metodo puede ser cualquier codigo incluso aunque no este en una clase u objeto!"
   ]
  },
  {
   "cell_type": "code",
   "execution_count": null,
   "metadata": {
    "dotnet_interactive": {
     "language": "javascript"
    },
    "polyglot_notebook": {
     "kernelName": "javascript"
    },
    "vscode": {
     "languageId": "polyglot-notebook"
    }
   },
   "outputs": [],
   "source": [
    "function saludar() {\n",
    "    console.log('Hola desde la función saludar');\n",
    "}\n",
    "\n",
    "const objeto = {\n",
    "    saludo: saludar\n",
    "}\n",
    "\n",
    "objeto.saludo();"
   ]
  },
  {
   "cell_type": "markdown",
   "metadata": {},
   "source": [
    "## Conclusion"
   ]
  },
  {
   "cell_type": "markdown",
   "metadata": {
    "vscode": {
     "languageId": "polyglot-notebook"
    }
   },
   "source": [
    "En resumen un _objeto_ es una cosa que responde a ciertos _mensajes_. Aunque puede ser instancia de una clase, eso no es obligatorio. Un _metodo_ es la pieza de codigo que se ejecuta en respuesta al _mensaje_ recibido por el _objeto_. Puede vivir en cualquier lugar pero debe ser accesible al _objeto_ que recibe el _mensaje_ para que pueda ejecutarlo al recibir el _mensaje_. "
   ]
  }
 ],
 "metadata": {
  "kernelspec": {
   "display_name": ".NET (C#)",
   "language": "C#",
   "name": ".net-csharp"
  },
  "language_info": {
   "name": "python",
   "version": "3.8.6"
  },
  "polyglot_notebook": {
   "kernelInfo": {
    "defaultKernelName": "csharp",
    "items": [
     {
      "aliases": [],
      "name": "csharp"
     },
     {
      "aliases": [],
      "languageName": "python",
      "name": "pythonkernel"
     }
    ]
   }
  }
 },
 "nbformat": 4,
 "nbformat_minor": 2
}
