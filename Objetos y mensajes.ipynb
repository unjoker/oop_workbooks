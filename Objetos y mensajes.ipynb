{
 "cells": [
  {
   "cell_type": "markdown",
   "metadata": {},
   "source": [
    "# Objetos y mensajes\n"
   ]
  },
  {
   "cell_type": "markdown",
   "metadata": {},
   "source": [
    "Probablemente has desarrollado una aplicacion web. En caso de que no, dejame explicarte un poco acerca de como funciona.  "
   ]
  },
  {
   "cell_type": "markdown",
   "metadata": {},
   "source": [
    "Una aplicacion web no es mas que una pieza de codigo que responde a una peticion http."
   ]
  },
  {
   "cell_type": "markdown",
   "metadata": {},
   "source": [
    "Cada vez que introduces una url como http://www.amazon.com en un navegador web, el navegador transforma eso en una peticion HTTP. Una peticion HTTP es un mensaje que empieza con un verbo HTTP(GET, PUT, POST, etc) que es enviada a un servicio llamado DNS. Este servicio usar el nombre que aparece entre www y .com para determinar que computadora debe recibir esa peticion. La peticion es entonces enviada a la computadora correcta. En esta computadora hay un servidor we que recibe la peticion y decide que hacer con ella: a veces ejecuta una pieza de codigo.   "
   ]
  },
  {
   "cell_type": "markdown",
   "metadata": {},
   "source": [
    "A veces solo regresa una image o documento existente."
   ]
  },
  {
   "cell_type": "code",
   "execution_count": null,
   "metadata": {
    "dotnet_interactive": {
     "language": "http"
    },
    "polyglot_notebook": {
     "kernelName": "http"
    },
    "vscode": {
     "languageId": "polyglot-notebook"
    }
   },
   "outputs": [],
   "source": [
    "GET http://www.amazon.com"
   ]
  },
  {
   "cell_type": "markdown",
   "metadata": {},
   "source": [
    "A veces se niega a hacer algo."
   ]
  },
  {
   "cell_type": "code",
   "execution_count": null,
   "metadata": {
    "dotnet_interactive": {
     "language": "http"
    },
    "polyglot_notebook": {
     "kernelName": "http"
    },
    "vscode": {
     "languageId": "polyglot-notebook"
    }
   },
   "outputs": [],
   "source": [
    " POST http://www.amazon.com\n",
    " "
   ]
  },
  {
   "cell_type": "markdown",
   "metadata": {},
   "source": [
    "Y a veces no tiene idea de que hacer con ese mensaje."
   ]
  },
  {
   "cell_type": "code",
   "execution_count": null,
   "metadata": {
    "dotnet_interactive": {
     "language": "http"
    },
    "polyglot_notebook": {
     "kernelName": "http"
    },
    "vscode": {
     "languageId": "polyglot-notebook"
    }
   },
   "outputs": [],
   "source": [
    " GET http://www.amazon.com/cosa"
   ]
  },
  {
   "cell_type": "markdown",
   "metadata": {},
   "source": [
    "Esta es en esencia la idea de la programacion orientada a objetos. Solo que en una escala menor. En lugar de usar el protocolo http para comunicarse, los objetos usan mensajes que son entregados por el entorno de ejecucion. Es tambien el entorno de ejecucion el que decide como enlazar que codigo se ejecuta en respuesta a cada mensaje. Estos codigos se llaman metodos. En la implementacion tipica de los lenguajes de programacion el mensaje y el metodo comparten el mismo nombre, por lo que al declarar un metodo, implicitamente estamos declarando un mensaje al que respondera nuestro objeto. \n",
    "Esto produce una confusion en la que pensamos que los mensajes son los metodos. Esta idea limita nuestra habilidad para razonar en cuanto a nuestros objetos."
   ]
  },
  {
   "cell_type": "markdown",
   "metadata": {},
   "source": [
    "Una implementacion alternativa puede verse al usar la trampa Get del protocolo Proxy en javascript..."
   ]
  },
  {
   "cell_type": "code",
   "execution_count": null,
   "metadata": {
    "dotnet_interactive": {
     "language": "javascript"
    },
    "polyglot_notebook": {
     "kernelName": "javascript"
    },
    "vscode": {
     "languageId": "polyglot-notebook"
    }
   },
   "outputs": [],
   "source": [
    "const persona = new Proxy({}, {\n",
    "  get: function(target, prop) {\n",
    "    switch(prop) {\n",
    "      case 'nombre':\n",
    "        return 'Juan';\n",
    "      case 'edad':\n",
    "        return 25;\n",
    "      case 'profesion':\n",
    "        return 'Desarrollador';\n",
    "      default:\n",
    "        return 'No entiendo este mensaje!';\n",
    "    }\n",
    "    \n",
    "  }\n",
    "});\n",
    "\n",
    "console.log(persona.nombre);\n",
    "console.log(persona.edad);\n",
    "console.log(persona.profesion);\n",
    "console.log(persona.hobbies);"
   ]
  },
  {
   "cell_type": "markdown",
   "metadata": {},
   "source": [
    "Los metodos que responden a un mensaje pueden vivir en una clase..."
   ]
  },
  {
   "cell_type": "code",
   "execution_count": null,
   "metadata": {
    "dotnet_interactive": {
     "language": "javascript"
    },
    "polyglot_notebook": {
     "kernelName": "javascript"
    },
    "vscode": {
     "languageId": "polyglot-notebook"
    }
   },
   "outputs": [],
   "source": [
    "class Almacen {\n",
    "    constructor(){\n",
    "        this.existencias = [];\n",
    "    }\n",
    "\n",
    "    ConsultarExistencia(objeto){\n",
    "        return this.existencias.find(e => e.objeto === objeto).cantidad;\n",
    "    }\n",
    "\n",
    "    Agregar(objeto, cantidad){\n",
    "        this.existencias.push({objeto:objeto, cantidad: cantidad});\n",
    "    }\n",
    "}\n",
    "\n",
    "const almacen = new Almacen();\n",
    "almacen.Agregar(\"manzanas\", 10);\n",
    "almacen.Agregar(\"peras\", 20);\n",
    "almacen.Agregar(\"naranjas\", 30);\n",
    "almacen.Agregar(\"platanos\", 40);\n",
    "\n",
    "console.log(almacen.ConsultarExistencia(\"manzanas\"));\n",
    "console.log(almacen.ConsultarExistencia(\"peras\"));"
   ]
  },
  {
   "cell_type": "markdown",
   "metadata": {},
   "source": [
    "Pueden vivir en otro objeto (delegacion)..."
   ]
  },
  {
   "cell_type": "code",
   "execution_count": null,
   "metadata": {
    "dotnet_interactive": {
     "language": "javascript"
    },
    "polyglot_notebook": {
     "kernelName": "javascript"
    },
    "vscode": {
     "languageId": "polyglot-notebook"
    }
   },
   "outputs": [],
   "source": [
    "const ConstructorAlmacen = function(otroObjeto) {\n",
    "    \n",
    "    this.ConsultarExistencia = otroObjeto.get.bind(otroObjeto),\n",
    "\n",
    "    this.Agregar = otroObjeto.set.bind(otroObjeto)\n",
    "}\n",
    "\n",
    "const objetoX = new Map();\n",
    "const almacen = new ConstructorAlmacen(objetoX);\n",
    "almacen.Agregar(\"manzanas\", 10);\n",
    "almacen.Agregar(\"peras\", 20);\n",
    "\n",
    "console.log(almacen.ConsultarExistencia(\"manzanas\"));\n",
    "console.log(almacen.ConsultarExistencia(\"peras\"));"
   ]
  },
  {
   "cell_type": "markdown",
   "metadata": {},
   "source": [
    "Pueden vivir incluso en un contexto que no sea un objeto..."
   ]
  },
  {
   "cell_type": "code",
   "execution_count": null,
   "metadata": {
    "dotnet_interactive": {
     "language": "javascript"
    },
    "polyglot_notebook": {
     "kernelName": "javascript"
    },
    "vscode": {
     "languageId": "polyglot-notebook"
    }
   },
   "outputs": [],
   "source": [
    "const ConstructorAlmacen = function(metodoConsultar, metodoAgregar) {\n",
    "    \n",
    "    this.ConsultarExistencia = metodoConsultar,\n",
    "\n",
    "    this.Agregar = metodoAgregar\n",
    "}\n",
    "\n",
    "const existencias = [];\n",
    "\n",
    "const almacen = new ConstructorAlmacen(\n",
    "                                    (objeto) => existencias.find(e => e.objeto === objeto).cantidad, \n",
    "                                    (objeto, cantidad) => existencias.push({objeto:objeto, cantidad: cantidad})\n",
    "                                );\n",
    "\n",
    "almacen.Agregar(\"manzanas\", 10);\n",
    "almacen.Agregar(\"peras\", 20);\n",
    "\n",
    "console.log(almacen.ConsultarExistencia(\"manzanas\"));\n",
    "console.log(almacen.ConsultarExistencia(\"peras\"));"
   ]
  },
  {
   "cell_type": "markdown",
   "metadata": {
    "vscode": {
     "languageId": "polyglot-notebook"
    }
   },
   "source": [
    "En resumen un objeto es una cosa que responde a ciertos mensajes. Aunque puede ser instancia de una clase, eso no es obligatorio. Un metodo es la pieza de codigo que se ejecuta en respuesta al mensaje recibido por el objeto. Puede vivir en cualquier lugar pero debe ser accesible al objeto que recibe el mensaje para que pueda ejecutarlo al recibir el mensaje. "
   ]
  }
 ],
 "metadata": {
  "kernelspec": {
   "display_name": ".NET (C#)",
   "language": "C#",
   "name": ".net-csharp"
  },
  "language_info": {
   "name": "python",
   "version": "3.8.6"
  },
  "polyglot_notebook": {
   "kernelInfo": {
    "defaultKernelName": "csharp",
    "items": [
     {
      "aliases": [],
      "name": "csharp"
     }
    ]
   }
  }
 },
 "nbformat": 4,
 "nbformat_minor": 2
}
