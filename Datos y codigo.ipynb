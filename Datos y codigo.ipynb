{
 "cells": [
  {
   "cell_type": "markdown",
   "metadata": {},
   "source": [
    "# Datos y codigo"
   ]
  },
  {
   "cell_type": "markdown",
   "metadata": {},
   "source": [
    "En casi todos los paradigmas de programacion, existen 2 conceptos fundamentales: datos y codigo. Tipicamente el codigo manipula a los datos en una serie de instrucciones para un fin determinado. En la programacion orientada a objetos, estos conceptos desaparencen. En su lugar tenemos al concepto de objeto que encapsula y abstrae esas ideas."
   ]
  },
  {
   "cell_type": "markdown",
   "metadata": {},
   "source": [
    "Tipicamente se habla de un objeto como la combinacion de codigo + datos. Pero esto no es asi."
   ]
  },
  {
   "cell_type": "markdown",
   "metadata": {},
   "source": [
    "Un objeto puede representar una pieza de codigo..."
   ]
  },
  {
   "cell_type": "code",
   "execution_count": null,
   "metadata": {},
   "outputs": [],
   "source": [
    "var suma = delegate(int a, int b) { return a + b; };\n",
    "//suma es un objeto que encapsula el codigo para sumar 2 numeros\n",
    "//para invocar la funcion encapsulada se usa el mensaje Invoke\n",
    "\n",
    "System.Console.WriteLine(suma.Invoke(2, 3));"
   ]
  },
  {
   "cell_type": "markdown",
   "metadata": {},
   "source": [
    "Un objeto puede representar una pieza de informacion..."
   ]
  },
  {
   "cell_type": "code",
   "execution_count": null,
   "metadata": {},
   "outputs": [],
   "source": [
    "var nombre = \"Juan\"; //crea un objeto string que responde a varios mensajes\n",
    "Console.WriteLine(nombre.Length); \n",
    "Console.WriteLine(nombre.ToUpper()); \n",
    "Console.WriteLine(nombre.Substring(0, 2));"
   ]
  },
  {
   "cell_type": "markdown",
   "metadata": {},
   "source": [
    "Y si, un objeto puede representar una combinacion de ambos..."
   ]
  },
  {
   "cell_type": "code",
   "execution_count": null,
   "metadata": {},
   "outputs": [],
   "source": [
    "class Impuesto {\n",
    "    private double tasa;\n",
    "    public Impuesto(double tasa) {\n",
    "        this.tasa = tasa;\n",
    "    }\n",
    "    public double Aplicar(double monto) {\n",
    "        return monto * tasa;\n",
    "    }\n",
    "}\n",
    "\n",
    "var impuesto = new Impuesto(0.16);\n",
    "Console.WriteLine(impuesto.Aplicar(100));"
   ]
  }
 ],
 "metadata": {
  "kernelspec": {
   "display_name": ".NET (C#)",
   "language": "C#",
   "name": ".net-csharp"
  },
  "polyglot_notebook": {
   "kernelInfo": {
    "defaultKernelName": "csharp",
    "items": [
     {
      "aliases": [],
      "languageName": "csharp",
      "name": "csharp"
     }
    ]
   }
  }
 },
 "nbformat": 4,
 "nbformat_minor": 2
}
