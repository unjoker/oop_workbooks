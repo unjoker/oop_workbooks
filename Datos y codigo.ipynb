{
 "cells": [
  {
   "cell_type": "markdown",
   "metadata": {},
   "source": [
    "# Datos y codigo"
   ]
  },
  {
   "cell_type": "markdown",
   "metadata": {},
   "source": [
    "En casi todos los paradigmas de programacion, existen 2 conceptos fundamentales: datos y codigo. Tipicamente el codigo manipula a los datos en una serie de instrucciones para un fin determinado. En la programacion orientada a objetos, estos conceptos desaparencen. En su lugar tenemos al concepto de objeto que encapsula y abstrae esas ideas."
   ]
  },
  {
   "cell_type": "markdown",
   "metadata": {},
   "source": [
    "Tipicamente se habla de un objeto como la combinacion de codigo + datos. Pero esto no es asi."
   ]
  },
  {
   "cell_type": "markdown",
   "metadata": {},
   "source": [
    "## Objetos vs codigo"
   ]
  },
  {
   "cell_type": "markdown",
   "metadata": {},
   "source": [
    "Observa la siguiente pieza de C#:"
   ]
  },
  {
   "cell_type": "code",
   "execution_count": null,
   "metadata": {},
   "outputs": [
    {
     "name": "stdout",
     "output_type": "stream",
     "text": [
      "5\r\n"
     ]
    }
   ],
   "source": [
    "var suma = delegate(int a, int b) { return a + b; };\n",
    "//suma es un objeto que encapsula el codigo para sumar 2 numeros.\n",
    "//Para invocar el codigo se usa el mensaje Invoke\n",
    "\n",
    "System.Console.WriteLine(suma.Invoke(2, 3));"
   ]
  },
  {
   "cell_type": "markdown",
   "metadata": {},
   "source": [
    "En C#, puedes crear un objeto que responde a un solo mensaje especial(_Invoke_) ejecutando un _metodo_ que vive fuera de su clase. La clase de estos objetos se llama delegate. Para instanciarlos no necesitas el operador new, sino que usas la palabra reservada delegate. En Ruby (y en Smalltalk) se llaman blocks. No te confundas, estas no son funciones anonimas, son objetos!"
   ]
  },
  {
   "cell_type": "code",
   "execution_count": null,
   "metadata": {},
   "outputs": [
    {
     "name": "stdout",
     "output_type": "stream",
     "text": [
      "System.Func`3[System.Int32,System.Int32,System.Int32]\n",
      "Int32 <<Initialize>>b__0_0(Int32, Int32)\n",
      "System.Delegate[]\n"
     ]
    }
   ],
   "source": [
    "Console.WriteLine(suma.ToString());\n",
    "Console.WriteLine(suma.Method);\n",
    "Console.WriteLine(suma.GetInvocationList());\n"
   ]
  },
  {
   "cell_type": "markdown",
   "metadata": {},
   "source": [
    "Como puedes ver el objeto suma responde a varios mensajes, a diferencia de una funcion. Otro ejemplo claro es javascript, donde las funciones no existen por si mismas. Son objetos! Por ejemplo:"
   ]
  },
  {
   "cell_type": "code",
   "execution_count": null,
   "metadata": {
    "dotnet_interactive": {
     "language": "javascript"
    },
    "polyglot_notebook": {
     "kernelName": "javascript"
    }
   },
   "outputs": [
    {
     "data": {
      "text/plain": [
       "5"
      ]
     },
     "metadata": {},
     "output_type": "display_data"
    }
   ],
   "source": [
    "function sumar(a, b) {\n",
    "    return a + b;\n",
    "}\n",
    "\n",
    "console.log(sumar(2, 3));"
   ]
  },
  {
   "cell_type": "markdown",
   "metadata": {},
   "source": [
    "Una funcion comun y corriente no? Para nada!"
   ]
  },
  {
   "cell_type": "code",
   "execution_count": null,
   "metadata": {
    "dotnet_interactive": {
     "language": "javascript"
    },
    "polyglot_notebook": {
     "kernelName": "javascript"
    }
   },
   "outputs": [
    {
     "data": {
      "text/plain": [
       "sumar"
      ]
     },
     "metadata": {},
     "output_type": "display_data"
    },
    {
     "data": {
      "text/plain": [
       "2"
      ]
     },
     "metadata": {},
     "output_type": "display_data"
    }
   ],
   "source": [
    "function sumar(a, b) {\n",
    "    return a + b;\n",
    "}\n",
    "\n",
    "console.log(sumar.name);\n",
    "console.log(sumar.length);"
   ]
  },
  {
   "cell_type": "markdown",
   "metadata": {},
   "source": [
    "'sumar' entiende mensajes!! y cual dijimos que es la definicion de un objeto? es una cosa que acepta mensajes!\n"
   ]
  },
  {
   "cell_type": "markdown",
   "metadata": {},
   "source": [
    "### Objetos y closures"
   ]
  },
  {
   "cell_type": "markdown",
   "metadata": {},
   "source": [
    "Los objetos con metodos fuera de su clase permiten la implementacion de closures en el paradigma orientado a objetos. Que es el pegamento que mantiene unido a los objetos en un programa. "
   ]
  },
  {
   "cell_type": "code",
   "execution_count": null,
   "metadata": {
    "dotnet_interactive": {
     "language": "javascript"
    },
    "polyglot_notebook": {
     "kernelName": "javascript"
    }
   },
   "outputs": [
    {
     "data": {
      "text/plain": [
       "Enviando mensaje: Juan: true"
      ]
     },
     "metadata": {},
     "output_type": "display_data"
    }
   ],
   "source": [
    "class InvitadoFiesta{\n",
    "    constructor(nombre){\n",
    "        this.nombre = nombre;\n",
    "    }\n",
    "\n",
    "    confirmarAsistencia = function(enviarRespuesta){\n",
    "        enviarRespuesta(this.nombre, \"Asistencia confirmada\");\n",
    "    }\n",
    "}\n",
    "\n",
    "class CanalComunicacion{\n",
    "    enviar = function(mensaje){\n",
    "        console.log(\"Enviando mensaje: \" + mensaje);\n",
    "    }\n",
    "}\n",
    "\n",
    "class InterpretacionRespuesta{\n",
    "    normalizar = function (mensaje){\n",
    "        const respuestaAfirmativa = [\"Asistencia confirmada\", \"Nos vemos allí\", \"Si\", \"Claro\"];\n",
    "        return respuestaAfirmativa.includes(mensaje) ? true : false;\n",
    "    }\n",
    "}\n",
    "\n",
    "\n",
    "const invitado = new InvitadoFiesta('Juan');\n",
    "const canal = new CanalComunicacion();\n",
    "const interprete = new InterpretacionRespuesta();\n",
    "\n",
    "objetoClosure = (nombre, mensaje) => canal.enviar(`${nombre}: ${interprete.normalizar(mensaje)}`)\n",
    "\n",
    "invitado.confirmarAsistencia(objetoClosure);"
   ]
  },
  {
   "cell_type": "markdown",
   "metadata": {},
   "source": [
    "## Objetos vs datos"
   ]
  },
  {
   "cell_type": "markdown",
   "metadata": {},
   "source": [
    "Un objeto puede representar una pieza de informacion..."
   ]
  },
  {
   "cell_type": "code",
   "execution_count": null,
   "metadata": {},
   "outputs": [
    {
     "name": "stdout",
     "output_type": "stream",
     "text": [
      "4\n",
      "JUAN\n",
      "Ju\n"
     ]
    }
   ],
   "source": [
    "var nombre = \"Juan\"; //crea un objeto string que responde a varios mensajes\n",
    "Console.WriteLine(nombre.Length); \n",
    "Console.WriteLine(nombre.ToUpper()); \n",
    "Console.WriteLine(nombre.Substring(0, 2));"
   ]
  },
  {
   "cell_type": "markdown",
   "metadata": {},
   "source": [
    "Y si, un objeto puede representar una combinacion de ambos..."
   ]
  },
  {
   "cell_type": "code",
   "execution_count": null,
   "metadata": {
    "dotnet_interactive": {
     "language": "csharp"
    },
    "polyglot_notebook": {
     "kernelName": "csharp"
    }
   },
   "outputs": [
    {
     "name": "stdout",
     "output_type": "stream",
     "text": [
      "16\r\n"
     ]
    }
   ],
   "source": [
    "class Impuesto {\n",
    "    private double tasa;\n",
    "    public Impuesto(double tasa) {\n",
    "        this.tasa = tasa;\n",
    "    }\n",
    "    public double Aplicar(double monto) {\n",
    "        return monto * tasa;\n",
    "    }\n",
    "}\n",
    "\n",
    "var impuesto = new Impuesto(0.16);\n",
    "Console.WriteLine(impuesto.Aplicar(100));"
   ]
  }
 ],
 "metadata": {
  "kernelspec": {
   "display_name": ".NET (C#)",
   "language": "C#",
   "name": ".net-csharp"
  },
  "polyglot_notebook": {
   "kernelInfo": {
    "defaultKernelName": "csharp",
    "items": [
     {
      "aliases": [],
      "languageName": "csharp",
      "name": "csharp"
     }
    ]
   }
  }
 },
 "nbformat": 4,
 "nbformat_minor": 2
}
