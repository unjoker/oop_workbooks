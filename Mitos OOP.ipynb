{
 "cells": [
  {
   "cell_type": "markdown",
   "metadata": {},
   "source": [
    "## Objetos = datos + codigo"
   ]
  },
  {
   "cell_type": "markdown",
   "metadata": {},
   "source": [
    "Quiza una de las ideas mas dañinas para el diseño orientado objetos, es la definicion de un objeto como una estructura de datos con funciones. Aunque este sea el caso a nivel de implementacion, esta concepcion de un objeto limita mucho nuestra forma de pensar y por lo tanto de diseñar un sistema orientado a objetos. Una forma mas util es pensar en un objeto como una cosa que recibe mensajes. Despues de todo esa era la idea de Alan Kay cuando creo el termino programacion orientada a objetos. Por ejemplo, en la siguiente declaracion en C#:"
   ]
  },
  {
   "cell_type": "code",
   "execution_count": 16,
   "metadata": {
    "dotnet_interactive": {
     "language": "csharp"
    },
    "polyglot_notebook": {
     "kernelName": "csharp"
    },
    "vscode": {
     "languageId": "polyglot-notebook"
    }
   },
   "outputs": [],
   "source": [
    "int numero = 42;\n",
    "\n",
    "numero.ToString(); "
   ]
  },
  {
   "cell_type": "markdown",
   "metadata": {},
   "source": [
    "La gente tiende a pensar que __numero__ es un dato. Sin embargo en la proxima linea vemos que recibe el mensaje ToString! __numero__ es un objeto! un objeto que representa un dato, pero un objeto al final de cuentas. Por otro lado, algo como:"
   ]
  },
  {
   "cell_type": "code",
   "execution_count": 17,
   "metadata": {
    "dotnet_interactive": {
     "language": "csharp"
    },
    "polyglot_notebook": {
     "kernelName": "csharp"
    },
    "vscode": {
     "languageId": "polyglot-notebook"
    }
   },
   "outputs": [],
   "source": [
    "Delegate range = Enumerable.Range;\n",
    "\n",
    "range.DynamicInvoke(1, 10);"
   ]
  },
  {
   "cell_type": "markdown",
   "metadata": {},
   "source": [
    "...es un objeto que representa codigo. Sin embargo la mayoria de la gente usa el concepto de puntero como una forma de explicar delegates en C#. Por que? Por que para ellos un objeto = datos + codigo. Cualquiera cosa fuera de esa definicion no es un objeto para ellos. Por cierto, asi es como se ve un puntero en C#:"
   ]
  },
  {
   "cell_type": "code",
   "execution_count": 18,
   "metadata": {
    "dotnet_interactive": {
     "language": "csharp"
    },
    "polyglot_notebook": {
     "kernelName": "csharp"
    },
    "vscode": {
     "languageId": "polyglot-notebook"
    }
   },
   "outputs": [],
   "source": [
    "unsafe\n",
    "{\n",
    "    int number = 42;\n",
    "\tint* p = &number;\n",
    "}"
   ]
  },
  {
   "cell_type": "markdown",
   "metadata": {},
   "source": [
    "Como puedes ver, la idea de datos y codigo queda abstraida bajo un solo concepto: objeto."
   ]
  },
  {
   "cell_type": "markdown",
   "metadata": {},
   "source": [
    "Igual de importante es que la idea del _flujo de control_ queda abstraida bajo el concepto de _mensaje_. Esto significa que cuando diseñamos un modelo de objetos, no pensamos en el flujo de datos entre modulos y funciones, sino en un flujo de mensajes entre diferentes objetos. Observa el siguiente diagrama:"
   ]
  },
  {
   "cell_type": "code",
   "execution_count": 19,
   "metadata": {
    "dotnet_interactive": {
     "language": "mermaid"
    },
    "polyglot_notebook": {
     "kernelName": "mermaid"
    },
    "vscode": {
     "languageId": "polyglot-notebook"
    }
   },
   "outputs": [
    {
     "data": {
      "text/html": [
       "<div class=\"mermaidMarkdownContainer\" style=\"background-color:white\">\r\n",
       "<link rel=\"stylesheet\" href=\"https://cdnjs.cloudflare.com/ajax/libs/font-awesome/6.2.0/css/all.min.css\">\r\n",
       "<div id=\"bf5d76a7913d4a48870ae281027543a7\"></div>\r\n",
       "<script type=\"module\">\r\n",
       "\r\n",
       "            import mermaid from 'https://cdn.jsdelivr.net/npm/mermaid@10.6.1/dist/mermaid.esm.min.mjs';\r\n",
       "            let renderTarget = document.getElementById('bf5d76a7913d4a48870ae281027543a7');\r\n",
       "            try {\r\n",
       "                const {svg, bindFunctions} = await mermaid.mermaidAPI.render( \r\n",
       "                    'mermaid_bf5d76a7913d4a48870ae281027543a7', \r\n",
       "                    `sequenceDiagram\n",
       "    Cajero->>Banco: Abrir cuenta\n",
       "    Banco->>Cajero: Cuenta abierta\n",
       "    Cajero->>Mensajero: Notificar cuenta abierta\n",
       "    Mensajero->>Cajero: Notificacion enviada `);\r\n",
       "                renderTarget.innerHTML = svg;\r\n",
       "                bindFunctions?.(renderTarget);\r\n",
       "            }\r\n",
       "            catch (error) {\r\n",
       "                console.log(error);\r\n",
       "            }\r\n",
       "</script>\r\n",
       "</div>\r\n"
      ]
     },
     "metadata": {},
     "output_type": "display_data"
    }
   ],
   "source": [
    "sequenceDiagram\n",
    "    Cajero->>Banco: Abrir cuenta\n",
    "    Banco->>Cajero: Cuenta abierta\n",
    "    Cajero->>Mensajero: Notificar cuenta abierta\n",
    "    Mensajero->>Cajero: Notificacion enviada "
   ]
  },
  {
   "cell_type": "markdown",
   "metadata": {},
   "source": [
    "Pon atencion en los mensajes y el orden. Esa es la estructura del programa. Los objetos son reemplazables. "
   ]
  },
  {
   "cell_type": "code",
   "execution_count": 20,
   "metadata": {
    "dotnet_interactive": {
     "language": "mermaid"
    },
    "polyglot_notebook": {
     "kernelName": "mermaid"
    },
    "vscode": {
     "languageId": "polyglot-notebook"
    }
   },
   "outputs": [
    {
     "data": {
      "text/html": [
       "<div class=\"mermaidMarkdownContainer\" style=\"background-color:white\">\r\n",
       "<link rel=\"stylesheet\" href=\"https://cdnjs.cloudflare.com/ajax/libs/font-awesome/6.2.0/css/all.min.css\">\r\n",
       "<div id=\"44d4c7309f20492abe7856782d4f5499\"></div>\r\n",
       "<script type=\"module\">\r\n",
       "\r\n",
       "            import mermaid from 'https://cdn.jsdelivr.net/npm/mermaid@10.6.1/dist/mermaid.esm.min.mjs';\r\n",
       "            let renderTarget = document.getElementById('44d4c7309f20492abe7856782d4f5499');\r\n",
       "            try {\r\n",
       "                const {svg, bindFunctions} = await mermaid.mermaidAPI.render( \r\n",
       "                    'mermaid_44d4c7309f20492abe7856782d4f5499', \r\n",
       "                    `sequenceDiagram\n",
       "    ServicioCliente->>EmpresaTelefonica: Abrir cuenta\n",
       "    EmpresaTelefonica->>ServicioCliente: Cuenta abierta\n",
       "    ServicioCliente->>ServidorEmail: Notificar cuenta abierta\n",
       "    ServidorEmail->>ServicioCliente: Notificacion enviada `);\r\n",
       "                renderTarget.innerHTML = svg;\r\n",
       "                bindFunctions?.(renderTarget);\r\n",
       "            }\r\n",
       "            catch (error) {\r\n",
       "                console.log(error);\r\n",
       "            }\r\n",
       "</script>\r\n",
       "</div>\r\n"
      ]
     },
     "metadata": {},
     "output_type": "display_data"
    }
   ],
   "source": [
    "sequenceDiagram\n",
    "    ServicioCliente->>EmpresaTelefonica: Abrir cuenta\n",
    "    EmpresaTelefonica->>ServicioCliente: Cuenta abierta\n",
    "    ServicioCliente->>ServidorEmail: Notificar cuenta abierta\n",
    "    ServidorEmail->>ServicioCliente: Notificacion enviada "
   ]
  },
  {
   "cell_type": "markdown",
   "metadata": {},
   "source": [
    "Este cambio de pensamiento de procedimientos a interacciones es quiza la tarea mas dificil para hacer la transicion al paradigma orientado a objetos. Pero no te desanimes! Estoy para ayudarte"
   ]
  },
  {
   "cell_type": "markdown",
   "metadata": {},
   "source": [
    "## Metodos = mensajes"
   ]
  },
  {
   "cell_type": "markdown",
   "metadata": {},
   "source": [
    "El paradigma de programacion orientada a objetos (como se definio originalmente por Alan Kay) solo tiene 2 conceptos: objetos y mensajes. Eso es todo lo que se necesita para _diseñar_ un modelo de objetos. Sin embargo en los lenguajes que soportan ese paradigma, se necesitan algunos conceptos adicionales. Estos son detalles de implementacion especificos al lenguaje, pero suelen confundirse con el paradigma en si. Uno de estos detalles es el concepto de metodo. Un metodo no es otra cosa que una pieza de codigo que es ejecutada en respuesta a un mensaje. Para simplificar la implementacion la mayoria de los lenguajes siguen una convencion sencilla: implementar una funcion publica en una clase. Tristemente esta implementacion ha llevado a muchos programadores a pensar que los mensajes y los metodos son los mismo. Para demostrarte que no es el caso, observa el siguiente codigo en C#:"
   ]
  },
  {
   "cell_type": "code",
   "execution_count": 21,
   "metadata": {
    "dotnet_interactive": {
     "language": "csharp"
    },
    "polyglot_notebook": {
     "kernelName": "csharp"
    },
    "vscode": {
     "languageId": "polyglot-notebook"
    }
   },
   "outputs": [],
   "source": [
    "interface IDoSomething\n",
    "{\n",
    "    void Message1();\n",
    "    void Message2();\n",
    "}"
   ]
  },
  {
   "cell_type": "markdown",
   "metadata": {},
   "source": [
    "Como puedes ver, no hay codigo que se ejecute aqui. No hay _metodos_. Lo unico que encuentras son los mensajes. Una interface es solo una implementacion de la idea de contrato: una lista de mensajes que un objeto esta obligado a aceptar. Ahora mira:"
   ]
  },
  {
   "cell_type": "code",
   "execution_count": 22,
   "metadata": {
    "dotnet_interactive": {
     "language": "csharp"
    },
    "polyglot_notebook": {
     "kernelName": "csharp"
    },
    "vscode": {
     "languageId": "polyglot-notebook"
    }
   },
   "outputs": [],
   "source": [
    "class DoSomething: IDoSomething\n",
    "{\n",
    "    public void Message1()\n",
    "    {\n",
    "        Console.WriteLine(\"Message1\");\n",
    "    }\n",
    "\n",
    "    public void Message2()\n",
    "    {\n",
    "        Console.WriteLine(\"Message2\");\n",
    "    }\n",
    "}"
   ]
  },
  {
   "cell_type": "markdown",
   "metadata": {},
   "source": [
    "Ahora si tenemos metodos: hay codigo que se ejecuta en respuesta a los mensajes definidos en la interface IDoSomething. Para efectos practicos podemos pensar en la _firma_ de la funcion como el _mensaje_ y en el _cuerpo_ como el _metodo_."
   ]
  },
  {
   "cell_type": "markdown",
   "metadata": {},
   "source": [
    "Esto es mas claro en lenguajes dinamicos. Observa el siguiente codigo en python:"
   ]
  },
  {
   "cell_type": "code",
   "execution_count": null,
   "metadata": {
    "dotnet_interactive": {
     "language": "csharp"
    },
    "polyglot_notebook": {
     "kernelName": "csharp"
    },
    "vscode": {
     "languageId": "polyglot-notebook"
    }
   },
   "outputs": [],
   "source": [
    "#!connect jupyter --kernel-name pythonkernel --kernel-spec python3\n",
    "\n",
    "class Perro:\n",
    "    def ladra(objeto):\n",
    "        print(f'{objeto} está ladrando...')\n",
    "\n",
    "pulgoso = Perro()\n",
    "pulgoso.ladra()"
   ]
  },
  {
   "cell_type": "markdown",
   "metadata": {},
   "source": [
    "Pon atencion en como el metodo `ladra` recibe un objeto, pero al enviar el mensaje `pulgoso.ladra()` no estamos pasando ningun argumento. El _runtime_ se encarga de eso. Lo que quiere decir que no _invocamos un metodo_ directamente. El runtime se encarga de ubicar el metodo asignado a ese mensaje y ejecutarlo con los argumentos necesarios. Eso pasa con muchos lenguajes pero de manera automatica. Normalmente el argumento se almacena en una variable llamada _this_ o _self_."
   ]
  },
  {
   "cell_type": "markdown",
   "metadata": {},
   "source": [
    "## Todos los objetos tienen clases"
   ]
  },
  {
   "cell_type": "markdown",
   "metadata": {},
   "source": [
    "Otra de las cosas que causa interferencia en el pensamiento orientado a objetos es la idea de que un objeto debe tener un una clase. Esto nos limita al pensar que si no tiene una clase, no es un objeto. Un ejemplo claro de que esto no es cierto lo encontramos en lenguajes como self y javascript."
   ]
  },
  {
   "cell_type": "code",
   "execution_count": 41,
   "metadata": {
    "dotnet_interactive": {
     "language": "javascript"
    },
    "polyglot_notebook": {
     "kernelName": "javascript"
    },
    "vscode": {
     "languageId": "polyglot-notebook"
    }
   },
   "outputs": [
    {
     "data": {
      "text/plain": [
       "barf barf"
      ]
     },
     "metadata": {},
     "output_type": "display_data"
    }
   ],
   "source": [
    "perro = {\n",
    "    ladra: function() { console.log(\"barf barf\") }\n",
    "}\n",
    "\n",
    "perro.ladra()"
   ]
  },
  {
   "cell_type": "markdown",
   "metadata": {},
   "source": [
    "Recordemos que un objeto es una cosa que responde a mensajes. En este caso 'perro' responde al mensaje 'ladra'. Asi que estamos frente a un objeto hecho y derecho."
   ]
  },
  {
   "cell_type": "markdown",
   "metadata": {},
   "source": [
    "Las clases, son _clases de objetos_ o sea que son un mecanismo para _clasificar_ a ciertos objetos que responden a un un grupo de mensajes: un contrato. Convenientemente, el codigo ejecutado en respuesta a esos eventos (metodos) tambien vive ahi. Pero esto no es necesario. Desafortunadamente muchos lenguajes definen clases como la unica forma de crear un objeto, lo que limita nuestra concepcion de lo que es un objeto (una instancia de una clase vs algo que responde mensajes), su creacion y la ubicacion de sus metodos."
   ]
  },
  {
   "cell_type": "markdown",
   "metadata": {},
   "source": [
    "## Todos los metodos viven en clases"
   ]
  },
  {
   "cell_type": "markdown",
   "metadata": {},
   "source": [
    "Como ya demostramos, los objetos pueden existir sin necesidad de una clase. Pero entonces donde viven sus metodos?. Hay muchas opciones, por ejemplo un metodo puede vivir en el objeto mismo, esto es clasico en javascript:"
   ]
  },
  {
   "cell_type": "code",
   "execution_count": 25,
   "metadata": {
    "dotnet_interactive": {
     "language": "javascript"
    },
    "polyglot_notebook": {
     "kernelName": "javascript"
    },
    "vscode": {
     "languageId": "polyglot-notebook"
    }
   },
   "outputs": [
    {
     "data": {
      "text/plain": [
       "barf barf"
      ]
     },
     "metadata": {},
     "output_type": "display_data"
    }
   ],
   "source": [
    "function Perro() {\n",
    "    return {\n",
    "        ladra: function() { console.log(\"barf barf\") }\n",
    "    }\n",
    "}\n",
    "\n",
    "const bobby = Perro()\n",
    "bobby.ladra()"
   ]
  },
  {
   "cell_type": "markdown",
   "metadata": {},
   "source": [
    "Tambien pueden vivir en el contexto donde se crea el objeto!"
   ]
  },
  {
   "cell_type": "code",
   "execution_count": 26,
   "metadata": {
    "dotnet_interactive": {
     "language": "javascript"
    },
    "polyglot_notebook": {
     "kernelName": "javascript"
    },
    "vscode": {
     "languageId": "polyglot-notebook"
    }
   },
   "outputs": [
    {
     "data": {
      "text/plain": [
       "barf barf"
      ]
     },
     "metadata": {},
     "output_type": "display_data"
    }
   ],
   "source": [
    "function Perro() {\n",
    "    function ladrar() {\n",
    "        console.log(\"barf barf\")\n",
    "    }\n",
    "\n",
    "    return {\n",
    "        ladra: ladrar\n",
    "    }\n",
    "}\n",
    "\n",
    "const bobby = Perro()\n",
    "bobby.ladra()"
   ]
  },
  {
   "cell_type": "markdown",
   "metadata": {},
   "source": [
    "A menudo, viven en otros objetos (delegacion):"
   ]
  },
  {
   "cell_type": "code",
   "execution_count": 27,
   "metadata": {
    "dotnet_interactive": {
     "language": "javascript"
    },
    "polyglot_notebook": {
     "kernelName": "javascript"
    },
    "vscode": {
     "languageId": "polyglot-notebook"
    }
   },
   "outputs": [
    {
     "data": {
      "text/plain": [
       "barf barf"
      ]
     },
     "metadata": {},
     "output_type": "display_data"
    }
   ],
   "source": [
    "function Perro() {\n",
    "    return {\n",
    "        ladra: function() { console.log(\"barf barf\") }\n",
    "    }\n",
    "}\n",
    "\n",
    "function Dobberman(perro) {\n",
    "    return {\n",
    "        ladra: perro.ladra\n",
    "    }\n",
    "}\n",
    "\n",
    "const spike = new Dobberman(Perro())\n",
    "spike.ladra()"
   ]
  },
  {
   "cell_type": "markdown",
   "metadata": {},
   "source": [
    "## Todos los objetos se crean con 'new'"
   ]
  },
  {
   "cell_type": "markdown",
   "metadata": {},
   "source": [
    "Esta es otra confusion comun. Como estamos acostumbrados a definir clases para crear nuevos objetos, y como normalmente se usa la instruccion new para crearlo, entonces nos es dificil pensar en algo que no se inicialize con new como un objeto. Por ejemplo la siguiente expresion en C# crea un objeto:"
   ]
  },
  {
   "cell_type": "code",
   "execution_count": 28,
   "metadata": {
    "vscode": {
     "languageId": "polyglot-notebook"
    }
   },
   "outputs": [
    {
     "name": "stdout",
     "output_type": "stream",
     "text": [
      "42\r\n"
     ]
    },
    {
     "data": {
      "text/html": [
       "<details open=\"open\" class=\"dni-treeview\"><summary><span class=\"dni-code-hint\"><code>System.Action`1[System.Int32]</code></span></summary><div><table><thead><tr></tr></thead><tbody><tr><td>Target</td><td><details class=\"dni-treeview\"><summary><span class=\"dni-code-hint\"><code>Submission#14+&lt;&gt;c</code></span></summary><div><table><thead><tr></tr></thead><tbody></tbody></table></div></details></td></tr><tr><td>Method</td><td><details class=\"dni-treeview\"><summary><span class=\"dni-code-hint\"><code>Void &lt;&lt;Initialize&gt;&gt;b__0_0(Int32)</code></span></summary><div><table><thead><tr></tr></thead><tbody><tr><td>Name</td><td><div class=\"dni-plaintext\"><pre>&lt;&lt;Initialize&gt;&gt;b__0_0</pre></div></td></tr><tr><td>DeclaringType</td><td>Submission#14+&lt;&gt;c</td></tr><tr><td>ReflectedType</td><td>Submission#14+&lt;&gt;c</td></tr><tr><td>MemberType</td><td><span>Method</span></td></tr><tr><td>MetadataToken</td><td><div class=\"dni-plaintext\"><pre>100663305</pre></div></td></tr><tr><td>Module</td><td><details class=\"dni-treeview\"><summary><span class=\"dni-code-hint\"><code>ℛ*9128019d-e8e7-4863-a424-3ac31f004cad#1-14.dll</code></span></summary><div><table><thead><tr></tr></thead><tbody><tr><td>MDStreamVersion</td><td><div class=\"dni-plaintext\"><pre>131072</pre></div></td></tr><tr><td>FullyQualifiedName</td><td><div class=\"dni-plaintext\"><pre>&lt;Unknown&gt;</pre></div></td></tr><tr><td>ModuleVersionId</td><td><div class=\"dni-plaintext\"><pre>e3557b8d-cb2a-400a-9374-03c927c19d2b</pre></div></td></tr><tr><td>MetadataToken</td><td><div class=\"dni-plaintext\"><pre>1</pre></div></td></tr><tr><td>ScopeName</td><td><div class=\"dni-plaintext\"><pre>ℛ*9128019d-e8e7-4863-a424-3ac31f004cad#1-14.dll</pre></div></td></tr><tr><td>Name</td><td><div class=\"dni-plaintext\"><pre>&lt;Unknown&gt;</pre></div></td></tr><tr><td>Assembly</td><td><details class=\"dni-treeview\"><summary><span class=\"dni-code-hint\"><code>ℛ*9128019d-e8e7-4863-a424-3ac31f004cad#1-14, Version=0.0.0.0, Culture=neutral, PublicKeyToken=null</code></span></summary><div><table><thead><tr></tr></thead><tbody><tr><td>CodeBase</td><td><div class=\"dni-plaintext\"><pre>file:///C:/Program Files/dotnet/shared/Microsoft.NETCore.App/9.0.1/System.Private.CoreLib.dll</pre></div></td></tr><tr><td>FullName</td><td><div class=\"dni-plaintext\"><pre>ℛ*9128019d-e8e7-4863-a424-3ac31f004cad#1-14, Version=0.0.0.0, Culture=neutral, PublicKeyToken=null</pre></div></td></tr><tr><td>EntryPoint</td><td><div class=\"dni-plaintext\"><pre>&lt;null&gt;</pre></div></td></tr><tr><td>DefinedTypes</td><td><table><thead><tr><th><i>index</i></th><th>value</th></tr></thead><tbody><tr><td>0</td><td>Submission#14</td></tr><tr><td>1</td><td>Submission#14+&lt;&lt;Initialize&gt;&gt;d__0</td></tr><tr><td>2</td><td>Submission#14+&lt;&gt;c</td></tr></tbody></table></td></tr><tr><td>IsCollectible</td><td><div class=\"dni-plaintext\"><pre>False</pre></div></td></tr><tr><td>ManifestModule</td><td><details class=\"dni-treeview\"><summary><span class=\"dni-code-hint\"><code>ℛ*9128019d-e8e7-4863-a424-3ac31f004cad#1-14.dll</code></span></summary><div><table><thead><tr></tr></thead><tbody><tr><td>MDStreamVersion</td><td><div class=\"dni-plaintext\"><pre>131072</pre></div></td></tr><tr><td>FullyQualifiedName</td><td><div class=\"dni-plaintext\"><pre>&lt;Unknown&gt;</pre></div></td></tr><tr><td>ModuleVersionId</td><td><div class=\"dni-plaintext\"><pre>e3557b8d-cb2a-400a-9374-03c927c19d2b</pre></div></td></tr><tr><td>MetadataToken</td><td><div class=\"dni-plaintext\"><pre>1</pre></div></td></tr><tr><td>ScopeName</td><td><div class=\"dni-plaintext\"><pre>ℛ*9128019d-e8e7-4863-a424-3ac31f004cad#1-14.dll</pre></div></td></tr><tr><td>Name</td><td><div class=\"dni-plaintext\"><pre>&lt;Unknown&gt;</pre></div></td></tr><tr><td>Assembly</td><td><details class=\"dni-treeview\"><summary><span class=\"dni-code-hint\"><code>ℛ*9128019d-e8e7-4863-a424-3ac31f004cad#1-14, Version=0.0.0.0, Culture=neutral, PublicKeyToken=null</code></span></summary><div><table><thead><tr></tr></thead><tbody><tr><td>CodeBase</td><td>file:///C:/Program Files/dotnet/shared/Microsoft.NETCore.App/9.0.1/System.Private.CoreLib.dll</td></tr><tr><td>FullName</td><td>ℛ*9128019d-e8e7-4863-a424-3ac31f004cad#1-14, Version=0.0.0.0, Culture=neutral, PublicKeyToken=null</td></tr><tr><td>EntryPoint</td><td><div class=\"dni-plaintext\"><pre>&lt;null&gt;</pre></div></td></tr><tr><td>DefinedTypes</td><td>[ Submission#14, Submission#14+<<Initialize>>d__0, Submission#14+<>c ]</td></tr><tr><td>IsCollectible</td><td>False</td></tr><tr><td>ManifestModule</td><td>ℛ*9128019d-e8e7-4863-a424-3ac31f004cad#1-14.dll</td></tr><tr><td>ReflectionOnly</td><td>False</td></tr><tr><td>Location</td><td></td></tr><tr><td>ImageRuntimeVersion</td><td>v4.0.30319</td></tr><tr><td>GlobalAssemblyCache</td><td>False</td></tr><tr><td>HostContext</td><td>0</td></tr><tr><td>IsDynamic</td><td>False</td></tr><tr><td>ExportedTypes</td><td>[ Submission#14, Submission#14+<<Initialize>>d__0, Submission#14+<>c ]</td></tr><tr><td>IsFullyTrusted</td><td>True</td></tr><tr><td>CustomAttributes</td><td>[ [System.Runtime.CompilerServices.CompilationRelaxationsAttribute((Int32)8)], [System.Runtime.CompilerServices.RuntimeCompatibilityAttribute(WrapNonExceptionThrows = True)], [System.Diagnostics.DebuggableAttribute((System.Diagnostics.DebuggableAttribute+DebuggingModes)263)] ]</td></tr><tr><td>EscapedCodeBase</td><td>file:///C:/Program%20Files/dotnet/shared/Microsoft.NETCore.App/9.0.1/System.Private.CoreLib.dll</td></tr><tr><td>Modules</td><td>[ ℛ*9128019d-e8e7-4863-a424-3ac31f004cad#1-14.dll ]</td></tr><tr><td>SecurityRuleSet</td><td>None</td></tr></tbody></table></div></details></td></tr><tr><td>ModuleHandle</td><td><details class=\"dni-treeview\"><summary><span class=\"dni-code-hint\"><code>System.ModuleHandle</code></span></summary><div><table><thead><tr></tr></thead><tbody><tr><td>MDStreamVersion</td><td>131072</td></tr></tbody></table></div></details></td></tr><tr><td>CustomAttributes</td><td><table><thead><tr><th><i>index</i></th><th>value</th></tr></thead><tbody><tr><td>0</td><td>[System.Security.UnverifiableCodeAttribute()]</td></tr><tr><td>1</td><td>[System.Runtime.CompilerServices.RefSafetyRulesAttribute((Int32)11)]</td></tr></tbody></table></td></tr></tbody></table></div></details></td></tr><tr><td>ReflectionOnly</td><td><div class=\"dni-plaintext\"><pre>False</pre></div></td></tr><tr><td>Location</td><td><div class=\"dni-plaintext\"><pre></pre></div></td></tr><tr><td>ImageRuntimeVersion</td><td><div class=\"dni-plaintext\"><pre>v4.0.30319</pre></div></td></tr><tr><td>GlobalAssemblyCache</td><td><div class=\"dni-plaintext\"><pre>False</pre></div></td></tr><tr><td>HostContext</td><td><div class=\"dni-plaintext\"><pre>0</pre></div></td></tr><tr><td>IsDynamic</td><td><div class=\"dni-plaintext\"><pre>False</pre></div></td></tr><tr><td>ExportedTypes</td><td><table><thead><tr><th><i>index</i></th><th>value</th></tr></thead><tbody><tr><td>0</td><td>Submission#14</td></tr><tr><td>1</td><td>Submission#14+&lt;&lt;Initialize&gt;&gt;d__0</td></tr><tr><td>2</td><td>Submission#14+&lt;&gt;c</td></tr></tbody></table></td></tr><tr><td>IsFullyTrusted</td><td><div class=\"dni-plaintext\"><pre>True</pre></div></td></tr><tr><td>CustomAttributes</td><td><table><thead><tr><th><i>index</i></th><th>value</th></tr></thead><tbody><tr><td>0</td><td><details class=\"dni-treeview\"><summary><span class=\"dni-code-hint\"><code>[System.Runtime.CompilerServices.CompilationRelaxationsAttribute((Int32)8)]</code></span></summary><div><table><thead><tr></tr></thead><tbody><tr><td>Constructor</td><td>Void .ctor(Int32)</td></tr><tr><td>ConstructorArguments</td><td>[ (Int32)8 ]</td></tr><tr><td>NamedArguments</td><td>[  ]</td></tr><tr><td>AttributeType</td><td>System.Runtime.CompilerServices.CompilationRelaxationsAttribute</td></tr></tbody></table></div></details></td></tr><tr><td>1</td><td><details class=\"dni-treeview\"><summary><span class=\"dni-code-hint\"><code>[System.Runtime.CompilerServices.RuntimeCompatibilityAttribute(WrapNonExceptionThrows = True)]</code></span></summary><div><table><thead><tr></tr></thead><tbody><tr><td>Constructor</td><td>Void .ctor()</td></tr><tr><td>ConstructorArguments</td><td>[  ]</td></tr><tr><td>NamedArguments</td><td>[ WrapNonExceptionThrows = True ]</td></tr><tr><td>AttributeType</td><td>System.Runtime.CompilerServices.RuntimeCompatibilityAttribute</td></tr></tbody></table></div></details></td></tr><tr><td>2</td><td><details class=\"dni-treeview\"><summary><span class=\"dni-code-hint\"><code>[System.Diagnostics.DebuggableAttribute((System.Diagnostics.DebuggableAttribute+DebuggingModes)263)]</code></span></summary><div><table><thead><tr></tr></thead><tbody><tr><td>Constructor</td><td>Void .ctor(DebuggingModes)</td></tr><tr><td>ConstructorArguments</td><td>[ (System.Diagnostics.DebuggableAttribute+DebuggingModes)263 ]</td></tr><tr><td>NamedArguments</td><td>[  ]</td></tr><tr><td>AttributeType</td><td>System.Diagnostics.DebuggableAttribute</td></tr></tbody></table></div></details></td></tr></tbody></table></td></tr><tr><td>EscapedCodeBase</td><td><div class=\"dni-plaintext\"><pre>file:///C:/Program%20Files/dotnet/shared/Microsoft.NETCore.App/9.0.1/System.Private.CoreLib.dll</pre></div></td></tr><tr><td>Modules</td><td><table><thead><tr><th><i>index</i></th><th>value</th></tr></thead><tbody><tr><td>0</td><td><details class=\"dni-treeview\"><summary><span class=\"dni-code-hint\"><code>ℛ*9128019d-e8e7-4863-a424-3ac31f004cad#1-14.dll</code></span></summary><div><table><thead><tr></tr></thead><tbody><tr><td>MDStreamVersion</td><td>131072</td></tr><tr><td>FullyQualifiedName</td><td><Unknown></td></tr><tr><td>ModuleVersionId</td><td>e3557b8d-cb2a-400a-9374-03c927c19d2b</td></tr><tr><td>MetadataToken</td><td>1</td></tr><tr><td>ScopeName</td><td>ℛ*9128019d-e8e7-4863-a424-3ac31f004cad#1-14.dll</td></tr><tr><td>Name</td><td><Unknown></td></tr><tr><td>Assembly</td><td>ℛ*9128019d-e8e7-4863-a424-3ac31f004cad#1-14, Version=0.0.0.0, Culture=neutral, PublicKeyToken=null</td></tr><tr><td>ModuleHandle</td><td>System.ModuleHandle</td></tr><tr><td>CustomAttributes</td><td>[ [System.Security.UnverifiableCodeAttribute()], [System.Runtime.CompilerServices.RefSafetyRulesAttribute((Int32)11)] ]</td></tr></tbody></table></div></details></td></tr></tbody></table></td></tr><tr><td>SecurityRuleSet</td><td><span>None</span></td></tr></tbody></table></div></details></td></tr><tr><td>ModuleHandle</td><td><details class=\"dni-treeview\"><summary><span class=\"dni-code-hint\"><code>System.ModuleHandle</code></span></summary><div><table><thead><tr></tr></thead><tbody><tr><td>MDStreamVersion</td><td><div class=\"dni-plaintext\"><pre>131072</pre></div></td></tr></tbody></table></div></details></td></tr><tr><td>CustomAttributes</td><td><table><thead><tr><th><i>index</i></th><th>value</th></tr></thead><tbody><tr><td>0</td><td><details class=\"dni-treeview\"><summary><span class=\"dni-code-hint\"><code>[System.Security.UnverifiableCodeAttribute()]</code></span></summary><div><table><thead><tr></tr></thead><tbody><tr><td>Constructor</td><td><details class=\"dni-treeview\"><summary><span class=\"dni-code-hint\"><code>Void .ctor()</code></span></summary><div><table><thead><tr></tr></thead><tbody><tr><td>Name</td><td>.ctor</td></tr><tr><td>MemberType</td><td>Constructor</td></tr><tr><td>DeclaringType</td><td>System.Security.UnverifiableCodeAttribute</td></tr><tr><td>ReflectedType</td><td>System.Security.UnverifiableCodeAttribute</td></tr><tr><td>MetadataToken</td><td>100674210</td></tr><tr><td>Module</td><td>System.Private.CoreLib.dll</td></tr><tr><td>MethodHandle</td><td>System.RuntimeMethodHandle</td></tr><tr><td>Attributes</td><td>Public, HideBySig, SpecialName, RTSpecialName</td></tr><tr><td>CallingConvention</td><td>Standard, HasThis</td></tr><tr><td>IsSecurityCritical</td><td>True</td></tr><tr><td>IsSecuritySafeCritical</td><td>False</td></tr><tr><td>IsSecurityTransparent</td><td>False</td></tr><tr><td>ContainsGenericParameters</td><td>False</td></tr><tr><td>MethodImplementationFlags</td><td>IL</td></tr><tr><td>IsAbstract</td><td>False</td></tr><tr><td>IsConstructor</td><td>True</td></tr><tr><td>IsFinal</td><td>False</td></tr><tr><td>IsHideBySig</td><td>True</td></tr><tr><td>IsSpecialName</td><td>True</td></tr><tr><td>IsStatic</td><td>False</td></tr><tr><td>IsVirtual</td><td>False</td></tr><tr><td>IsAssembly</td><td>False</td></tr><tr><td>IsFamily</td><td>False</td></tr><tr><td>IsFamilyAndAssembly</td><td>False</td></tr><tr><td>IsFamilyOrAssembly</td><td>False</td></tr><tr><td>IsPrivate</td><td>False</td></tr><tr><td>IsPublic</td><td>True</td></tr><tr><td>IsConstructedGenericMethod</td><td>False</td></tr><tr><td>IsGenericMethod</td><td>False</td></tr><tr><td>IsGenericMethodDefinition</td><td>False</td></tr><tr><td>CustomAttributes</td><td>[  ]</td></tr><tr><td>IsCollectible</td><td>True</td></tr></tbody></table></div></details></td></tr><tr><td>ConstructorArguments</td><td><i>(empty)</i></td></tr><tr><td>NamedArguments</td><td><i>(empty)</i></td></tr><tr><td>AttributeType</td><td><span><a href=\"https://docs.microsoft.com/dotnet/api/system.security.unverifiablecodeattribute?view=net-7.0\">System.Security.UnverifiableCodeAttribute</a></span></td></tr></tbody></table></div></details></td></tr><tr><td>1</td><td><details class=\"dni-treeview\"><summary><span class=\"dni-code-hint\"><code>[System.Runtime.CompilerServices.RefSafetyRulesAttribute((Int32)11)]</code></span></summary><div><table><thead><tr></tr></thead><tbody><tr><td>Constructor</td><td><details class=\"dni-treeview\"><summary><span class=\"dni-code-hint\"><code>Void .ctor(Int32)</code></span></summary><div><table><thead><tr></tr></thead><tbody><tr><td>Name</td><td>.ctor</td></tr><tr><td>MemberType</td><td>Constructor</td></tr><tr><td>DeclaringType</td><td>System.Runtime.CompilerServices.RefSafetyRulesAttribute</td></tr><tr><td>ReflectedType</td><td>System.Runtime.CompilerServices.RefSafetyRulesAttribute</td></tr><tr><td>MetadataToken</td><td>100693950</td></tr><tr><td>Module</td><td>System.Private.CoreLib.dll</td></tr><tr><td>MethodHandle</td><td>System.RuntimeMethodHandle</td></tr><tr><td>Attributes</td><td>Public, HideBySig, SpecialName, RTSpecialName</td></tr><tr><td>CallingConvention</td><td>Standard, HasThis</td></tr><tr><td>IsSecurityCritical</td><td>True</td></tr><tr><td>IsSecuritySafeCritical</td><td>False</td></tr><tr><td>IsSecurityTransparent</td><td>False</td></tr><tr><td>ContainsGenericParameters</td><td>False</td></tr><tr><td>MethodImplementationFlags</td><td>IL</td></tr><tr><td>IsAbstract</td><td>False</td></tr><tr><td>IsConstructor</td><td>True</td></tr><tr><td>IsFinal</td><td>False</td></tr><tr><td>IsHideBySig</td><td>True</td></tr><tr><td>IsSpecialName</td><td>True</td></tr><tr><td>IsStatic</td><td>False</td></tr><tr><td>IsVirtual</td><td>False</td></tr><tr><td>IsAssembly</td><td>False</td></tr><tr><td>IsFamily</td><td>False</td></tr><tr><td>IsFamilyAndAssembly</td><td>False</td></tr><tr><td>IsFamilyOrAssembly</td><td>False</td></tr><tr><td>IsPrivate</td><td>False</td></tr><tr><td>IsPublic</td><td>True</td></tr><tr><td>IsConstructedGenericMethod</td><td>False</td></tr><tr><td>IsGenericMethod</td><td>False</td></tr><tr><td>IsGenericMethodDefinition</td><td>False</td></tr><tr><td>CustomAttributes</td><td>[  ]</td></tr><tr><td>IsCollectible</td><td>True</td></tr></tbody></table></div></details></td></tr><tr><td>ConstructorArguments</td><td><table><thead><tr><th><i>index</i></th><th>value</th></tr></thead><tbody><tr><td>0</td><td>(Int32)11</td></tr></tbody></table></td></tr><tr><td>NamedArguments</td><td><i>(empty)</i></td></tr><tr><td>AttributeType</td><td><span><a href=\"https://docs.microsoft.com/dotnet/api/system.runtime.compilerservices.refsafetyrulesattribute?view=net-7.0\">System.Runtime.CompilerServices.RefSafetyRulesAttribute</a></span></td></tr></tbody></table></div></details></td></tr></tbody></table></td></tr></tbody></table></div></details></td></tr><tr><td>IsSecurityCritical</td><td><div class=\"dni-plaintext\"><pre>True</pre></div></td></tr><tr><td>IsSecuritySafeCritical</td><td><div class=\"dni-plaintext\"><pre>False</pre></div></td></tr><tr><td>IsSecurityTransparent</td><td><div class=\"dni-plaintext\"><pre>False</pre></div></td></tr><tr><td>MethodHandle</td><td><details class=\"dni-treeview\"><summary><span class=\"dni-code-hint\"><code>System.RuntimeMethodHandle</code></span></summary><div><table><thead><tr></tr></thead><tbody><tr><td>Value</td><td><div class=\"dni-plaintext\"><pre>140720596829400</pre></div></td></tr></tbody></table></div></details></td></tr><tr><td>Attributes</td><td><span>Public, HideBySig</span></td></tr><tr><td>CallingConvention</td><td><span>Standard, HasThis</span></td></tr><tr><td>ReturnType</td><td><span><a href=\"https://docs.microsoft.com/dotnet/api/system.void?view=net-7.0\">System.Void</a></span></td></tr><tr><td>ReturnTypeCustomAttributes</td><td><details class=\"dni-treeview\"><summary><span class=\"dni-code-hint\"><code>Void</code></span></summary><div><table><thead><tr></tr></thead><tbody><tr><td>ParameterType</td><td><span><a href=\"https://docs.microsoft.com/dotnet/api/system.void?view=net-7.0\">System.Void</a></span></td></tr><tr><td>Name</td><td><div class=\"dni-plaintext\"><pre>&lt;null&gt;</pre></div></td></tr><tr><td>HasDefaultValue</td><td><div class=\"dni-plaintext\"><pre>False</pre></div></td></tr><tr><td>DefaultValue</td><td><details class=\"dni-treeview\"><summary><span class=\"dni-code-hint\"><code></code></span></summary><div><table><thead><tr></tr></thead><tbody></tbody></table></div></details></td></tr><tr><td>RawDefaultValue</td><td><details class=\"dni-treeview\"><summary><span class=\"dni-code-hint\"><code></code></span></summary><div><table><thead><tr></tr></thead><tbody></tbody></table></div></details></td></tr><tr><td>MetadataToken</td><td><div class=\"dni-plaintext\"><pre>134217728</pre></div></td></tr><tr><td>Attributes</td><td><span>None</span></td></tr><tr><td>Member</td><td><details class=\"dni-treeview\"><summary><span class=\"dni-code-hint\"><code>Void &lt;&lt;Initialize&gt;&gt;b__0_0(Int32)</code></span></summary><div><table><thead><tr></tr></thead><tbody><tr><td>Name</td><td><div class=\"dni-plaintext\"><pre>&lt;&lt;Initialize&gt;&gt;b__0_0</pre></div></td></tr><tr><td>DeclaringType</td><td>Submission#14+&lt;&gt;c</td></tr><tr><td>ReflectedType</td><td>Submission#14+&lt;&gt;c</td></tr><tr><td>MemberType</td><td><span>Method</span></td></tr><tr><td>MetadataToken</td><td><div class=\"dni-plaintext\"><pre>100663305</pre></div></td></tr><tr><td>Module</td><td><details class=\"dni-treeview\"><summary><span class=\"dni-code-hint\"><code>ℛ*9128019d-e8e7-4863-a424-3ac31f004cad#1-14.dll</code></span></summary><div><table><thead><tr></tr></thead><tbody><tr><td>MDStreamVersion</td><td><div class=\"dni-plaintext\"><pre>131072</pre></div></td></tr><tr><td>FullyQualifiedName</td><td><div class=\"dni-plaintext\"><pre>&lt;Unknown&gt;</pre></div></td></tr><tr><td>ModuleVersionId</td><td><div class=\"dni-plaintext\"><pre>e3557b8d-cb2a-400a-9374-03c927c19d2b</pre></div></td></tr><tr><td>MetadataToken</td><td><div class=\"dni-plaintext\"><pre>1</pre></div></td></tr><tr><td>ScopeName</td><td><div class=\"dni-plaintext\"><pre>ℛ*9128019d-e8e7-4863-a424-3ac31f004cad#1-14.dll</pre></div></td></tr><tr><td>Name</td><td><div class=\"dni-plaintext\"><pre>&lt;Unknown&gt;</pre></div></td></tr><tr><td>Assembly</td><td><details class=\"dni-treeview\"><summary><span class=\"dni-code-hint\"><code>ℛ*9128019d-e8e7-4863-a424-3ac31f004cad#1-14, Version=0.0.0.0, Culture=neutral, PublicKeyToken=null</code></span></summary><div><table><thead><tr></tr></thead><tbody><tr><td>CodeBase</td><td>file:///C:/Program Files/dotnet/shared/Microsoft.NETCore.App/9.0.1/System.Private.CoreLib.dll</td></tr><tr><td>FullName</td><td>ℛ*9128019d-e8e7-4863-a424-3ac31f004cad#1-14, Version=0.0.0.0, Culture=neutral, PublicKeyToken=null</td></tr><tr><td>EntryPoint</td><td><div class=\"dni-plaintext\"><pre>&lt;null&gt;</pre></div></td></tr><tr><td>DefinedTypes</td><td>[ Submission#14, Submission#14+<<Initialize>>d__0, Submission#14+<>c ]</td></tr><tr><td>IsCollectible</td><td>False</td></tr><tr><td>ManifestModule</td><td>ℛ*9128019d-e8e7-4863-a424-3ac31f004cad#1-14.dll</td></tr><tr><td>ReflectionOnly</td><td>False</td></tr><tr><td>Location</td><td></td></tr><tr><td>ImageRuntimeVersion</td><td>v4.0.30319</td></tr><tr><td>GlobalAssemblyCache</td><td>False</td></tr><tr><td>HostContext</td><td>0</td></tr><tr><td>IsDynamic</td><td>False</td></tr><tr><td>ExportedTypes</td><td>[ Submission#14, Submission#14+<<Initialize>>d__0, Submission#14+<>c ]</td></tr><tr><td>IsFullyTrusted</td><td>True</td></tr><tr><td>CustomAttributes</td><td>[ [System.Runtime.CompilerServices.CompilationRelaxationsAttribute((Int32)8)], [System.Runtime.CompilerServices.RuntimeCompatibilityAttribute(WrapNonExceptionThrows = True)], [System.Diagnostics.DebuggableAttribute((System.Diagnostics.DebuggableAttribute+DebuggingModes)263)] ]</td></tr><tr><td>EscapedCodeBase</td><td>file:///C:/Program%20Files/dotnet/shared/Microsoft.NETCore.App/9.0.1/System.Private.CoreLib.dll</td></tr><tr><td>Modules</td><td>[ ℛ*9128019d-e8e7-4863-a424-3ac31f004cad#1-14.dll ]</td></tr><tr><td>SecurityRuleSet</td><td>None</td></tr></tbody></table></div></details></td></tr><tr><td>ModuleHandle</td><td><details class=\"dni-treeview\"><summary><span class=\"dni-code-hint\"><code>System.ModuleHandle</code></span></summary><div><table><thead><tr></tr></thead><tbody><tr><td>MDStreamVersion</td><td>131072</td></tr></tbody></table></div></details></td></tr><tr><td>CustomAttributes</td><td><table><thead><tr><th><i>index</i></th><th>value</th></tr></thead><tbody><tr><td>0</td><td>[System.Security.UnverifiableCodeAttribute()]</td></tr><tr><td>1</td><td>[System.Runtime.CompilerServices.RefSafetyRulesAttribute((Int32)11)]</td></tr></tbody></table></td></tr></tbody></table></div></details></td></tr><tr><td>IsSecurityCritical</td><td><div class=\"dni-plaintext\"><pre>True</pre></div></td></tr><tr><td>IsSecuritySafeCritical</td><td><div class=\"dni-plaintext\"><pre>False</pre></div></td></tr><tr><td>IsSecurityTransparent</td><td><div class=\"dni-plaintext\"><pre>False</pre></div></td></tr><tr><td>MethodHandle</td><td><details class=\"dni-treeview\"><summary><span class=\"dni-code-hint\"><code>System.RuntimeMethodHandle</code></span></summary><div><table><thead><tr></tr></thead><tbody><tr><td>Value</td><td><div class=\"dni-plaintext\"><pre>140720596829400</pre></div></td></tr></tbody></table></div></details></td></tr><tr><td>Attributes</td><td><span>Public, HideBySig</span></td></tr><tr><td>CallingConvention</td><td><span>Standard, HasThis</span></td></tr><tr><td>ReturnType</td><td><span><a href=\"https://docs.microsoft.com/dotnet/api/system.void?view=net-7.0\">System.Void</a></span></td></tr><tr><td>ReturnTypeCustomAttributes</td><td><details class=\"dni-treeview\"><summary><span class=\"dni-code-hint\"><code>Void</code></span></summary><div><table><thead><tr></tr></thead><tbody><tr><td>ParameterType</td><td><span><a href=\"https://docs.microsoft.com/dotnet/api/system.void?view=net-7.0\">System.Void</a></span></td></tr><tr><td>Name</td><td><div class=\"dni-plaintext\"><pre>&lt;null&gt;</pre></div></td></tr><tr><td>HasDefaultValue</td><td><div class=\"dni-plaintext\"><pre>False</pre></div></td></tr><tr><td>DefaultValue</td><td><details class=\"dni-treeview\"><summary><span class=\"dni-code-hint\"><code></code></span></summary><div><table><thead><tr></tr></thead><tbody></tbody></table></div></details></td></tr><tr><td>RawDefaultValue</td><td><details class=\"dni-treeview\"><summary><span class=\"dni-code-hint\"><code></code></span></summary><div><table><thead><tr></tr></thead><tbody></tbody></table></div></details></td></tr><tr><td>MetadataToken</td><td><div class=\"dni-plaintext\"><pre>134217728</pre></div></td></tr><tr><td>Attributes</td><td><span>None</span></td></tr><tr><td>Member</td><td><details class=\"dni-treeview\"><summary><span class=\"dni-code-hint\"><code>Void &lt;&lt;Initialize&gt;&gt;b__0_0(Int32)</code></span></summary><div><table><thead><tr></tr></thead><tbody><tr><td>Name</td><td><<Initialize>>b__0_0</td></tr><tr><td>DeclaringType</td><td>Submission#14+<>c</td></tr><tr><td>ReflectedType</td><td>Submission#14+<>c</td></tr><tr><td>MemberType</td><td>Method</td></tr><tr><td>MetadataToken</td><td>100663305</td></tr><tr><td>Module</td><td>ℛ*9128019d-e8e7-4863-a424-3ac31f004cad#1-14.dll</td></tr><tr><td>IsSecurityCritical</td><td>True</td></tr><tr><td>IsSecuritySafeCritical</td><td>False</td></tr><tr><td>IsSecurityTransparent</td><td>False</td></tr><tr><td>MethodHandle</td><td>System.RuntimeMethodHandle</td></tr><tr><td>Attributes</td><td>Public, HideBySig</td></tr><tr><td>CallingConvention</td><td>Standard, HasThis</td></tr><tr><td>ReturnType</td><td>System.Void</td></tr><tr><td>ReturnTypeCustomAttributes</td><td>Void</td></tr><tr><td>ReturnParameter</td><td>Void</td></tr><tr><td>IsCollectible</td><td>False</td></tr><tr><td>IsGenericMethod</td><td>False</td></tr><tr><td>IsGenericMethodDefinition</td><td>False</td></tr><tr><td>ContainsGenericParameters</td><td>False</td></tr><tr><td>MethodImplementationFlags</td><td>IL</td></tr><tr><td>IsAbstract</td><td>False</td></tr><tr><td>IsConstructor</td><td>False</td></tr><tr><td>IsFinal</td><td>False</td></tr><tr><td>IsHideBySig</td><td>True</td></tr><tr><td>IsSpecialName</td><td>False</td></tr><tr><td>IsStatic</td><td>False</td></tr><tr><td>IsVirtual</td><td>False</td></tr><tr><td>IsAssembly</td><td>False</td></tr><tr><td>IsFamily</td><td>False</td></tr><tr><td>IsFamilyAndAssembly</td><td>False</td></tr><tr><td>IsFamilyOrAssembly</td><td>False</td></tr><tr><td>IsPrivate</td><td>False</td></tr><tr><td>IsPublic</td><td>True</td></tr><tr><td>IsConstructedGenericMethod</td><td>False</td></tr><tr><td>CustomAttributes</td><td>[  ]</td></tr></tbody></table></div></details></td></tr><tr><td>Position</td><td><div class=\"dni-plaintext\"><pre>-1</pre></div></td></tr><tr><td>IsIn</td><td><div class=\"dni-plaintext\"><pre>False</pre></div></td></tr><tr><td>IsLcid</td><td><div class=\"dni-plaintext\"><pre>False</pre></div></td></tr><tr><td>IsOptional</td><td><div class=\"dni-plaintext\"><pre>False</pre></div></td></tr><tr><td>IsOut</td><td><div class=\"dni-plaintext\"><pre>False</pre></div></td></tr><tr><td>IsRetval</td><td><div class=\"dni-plaintext\"><pre>False</pre></div></td></tr><tr><td>CustomAttributes</td><td><i>(empty)</i></td></tr></tbody></table></div></details></td></tr><tr><td>ReturnParameter</td><td><details class=\"dni-treeview\"><summary><span class=\"dni-code-hint\"><code>Void</code></span></summary><div><table><thead><tr></tr></thead><tbody><tr><td>ParameterType</td><td><span><a href=\"https://docs.microsoft.com/dotnet/api/system.void?view=net-7.0\">System.Void</a></span></td></tr><tr><td>Name</td><td><div class=\"dni-plaintext\"><pre>&lt;null&gt;</pre></div></td></tr><tr><td>HasDefaultValue</td><td><div class=\"dni-plaintext\"><pre>False</pre></div></td></tr><tr><td>DefaultValue</td><td><details class=\"dni-treeview\"><summary><span class=\"dni-code-hint\"><code></code></span></summary><div><table><thead><tr></tr></thead><tbody></tbody></table></div></details></td></tr><tr><td>RawDefaultValue</td><td><details class=\"dni-treeview\"><summary><span class=\"dni-code-hint\"><code></code></span></summary><div><table><thead><tr></tr></thead><tbody></tbody></table></div></details></td></tr><tr><td>MetadataToken</td><td><div class=\"dni-plaintext\"><pre>134217728</pre></div></td></tr><tr><td>Attributes</td><td><span>None</span></td></tr><tr><td>Member</td><td><details class=\"dni-treeview\"><summary><span class=\"dni-code-hint\"><code>Void &lt;&lt;Initialize&gt;&gt;b__0_0(Int32)</code></span></summary><div><table><thead><tr></tr></thead><tbody><tr><td>Name</td><td><<Initialize>>b__0_0</td></tr><tr><td>DeclaringType</td><td>Submission#14+<>c</td></tr><tr><td>ReflectedType</td><td>Submission#14+<>c</td></tr><tr><td>MemberType</td><td>Method</td></tr><tr><td>MetadataToken</td><td>100663305</td></tr><tr><td>Module</td><td>ℛ*9128019d-e8e7-4863-a424-3ac31f004cad#1-14.dll</td></tr><tr><td>IsSecurityCritical</td><td>True</td></tr><tr><td>IsSecuritySafeCritical</td><td>False</td></tr><tr><td>IsSecurityTransparent</td><td>False</td></tr><tr><td>MethodHandle</td><td>System.RuntimeMethodHandle</td></tr><tr><td>Attributes</td><td>Public, HideBySig</td></tr><tr><td>CallingConvention</td><td>Standard, HasThis</td></tr><tr><td>ReturnType</td><td>System.Void</td></tr><tr><td>ReturnTypeCustomAttributes</td><td>Void</td></tr><tr><td>ReturnParameter</td><td>Void</td></tr><tr><td>IsCollectible</td><td>False</td></tr><tr><td>IsGenericMethod</td><td>False</td></tr><tr><td>IsGenericMethodDefinition</td><td>False</td></tr><tr><td>ContainsGenericParameters</td><td>False</td></tr><tr><td>MethodImplementationFlags</td><td>IL</td></tr><tr><td>IsAbstract</td><td>False</td></tr><tr><td>IsConstructor</td><td>False</td></tr><tr><td>IsFinal</td><td>False</td></tr><tr><td>IsHideBySig</td><td>True</td></tr><tr><td>IsSpecialName</td><td>False</td></tr><tr><td>IsStatic</td><td>False</td></tr><tr><td>IsVirtual</td><td>False</td></tr><tr><td>IsAssembly</td><td>False</td></tr><tr><td>IsFamily</td><td>False</td></tr><tr><td>IsFamilyAndAssembly</td><td>False</td></tr><tr><td>IsFamilyOrAssembly</td><td>False</td></tr><tr><td>IsPrivate</td><td>False</td></tr><tr><td>IsPublic</td><td>True</td></tr><tr><td>IsConstructedGenericMethod</td><td>False</td></tr><tr><td>CustomAttributes</td><td>[  ]</td></tr></tbody></table></div></details></td></tr><tr><td>Position</td><td><div class=\"dni-plaintext\"><pre>-1</pre></div></td></tr><tr><td>IsIn</td><td><div class=\"dni-plaintext\"><pre>False</pre></div></td></tr><tr><td>IsLcid</td><td><div class=\"dni-plaintext\"><pre>False</pre></div></td></tr><tr><td>IsOptional</td><td><div class=\"dni-plaintext\"><pre>False</pre></div></td></tr><tr><td>IsOut</td><td><div class=\"dni-plaintext\"><pre>False</pre></div></td></tr><tr><td>IsRetval</td><td><div class=\"dni-plaintext\"><pre>False</pre></div></td></tr><tr><td>CustomAttributes</td><td><i>(empty)</i></td></tr></tbody></table></div></details></td></tr><tr><td>IsCollectible</td><td><div class=\"dni-plaintext\"><pre>False</pre></div></td></tr><tr><td>IsGenericMethod</td><td><div class=\"dni-plaintext\"><pre>False</pre></div></td></tr><tr><td>IsGenericMethodDefinition</td><td><div class=\"dni-plaintext\"><pre>False</pre></div></td></tr><tr><td>ContainsGenericParameters</td><td><div class=\"dni-plaintext\"><pre>False</pre></div></td></tr><tr><td>MethodImplementationFlags</td><td><span>IL</span></td></tr><tr><td>IsAbstract</td><td><div class=\"dni-plaintext\"><pre>False</pre></div></td></tr><tr><td>IsConstructor</td><td><div class=\"dni-plaintext\"><pre>False</pre></div></td></tr><tr><td>IsFinal</td><td><div class=\"dni-plaintext\"><pre>False</pre></div></td></tr><tr><td>IsHideBySig</td><td><div class=\"dni-plaintext\"><pre>True</pre></div></td></tr><tr><td>IsSpecialName</td><td><div class=\"dni-plaintext\"><pre>False</pre></div></td></tr><tr><td>IsStatic</td><td><div class=\"dni-plaintext\"><pre>False</pre></div></td></tr><tr><td>IsVirtual</td><td><div class=\"dni-plaintext\"><pre>False</pre></div></td></tr><tr><td>IsAssembly</td><td><div class=\"dni-plaintext\"><pre>False</pre></div></td></tr><tr><td>IsFamily</td><td><div class=\"dni-plaintext\"><pre>False</pre></div></td></tr><tr><td>IsFamilyAndAssembly</td><td><div class=\"dni-plaintext\"><pre>False</pre></div></td></tr><tr><td>IsFamilyOrAssembly</td><td><div class=\"dni-plaintext\"><pre>False</pre></div></td></tr><tr><td>IsPrivate</td><td><div class=\"dni-plaintext\"><pre>False</pre></div></td></tr><tr><td>IsPublic</td><td><div class=\"dni-plaintext\"><pre>True</pre></div></td></tr><tr><td>IsConstructedGenericMethod</td><td><div class=\"dni-plaintext\"><pre>False</pre></div></td></tr><tr><td>CustomAttributes</td><td><i>(empty)</i></td></tr></tbody></table></div></details></td></tr><tr><td>Position</td><td><div class=\"dni-plaintext\"><pre>-1</pre></div></td></tr><tr><td>IsIn</td><td><div class=\"dni-plaintext\"><pre>False</pre></div></td></tr><tr><td>IsLcid</td><td><div class=\"dni-plaintext\"><pre>False</pre></div></td></tr><tr><td>IsOptional</td><td><div class=\"dni-plaintext\"><pre>False</pre></div></td></tr><tr><td>IsOut</td><td><div class=\"dni-plaintext\"><pre>False</pre></div></td></tr><tr><td>IsRetval</td><td><div class=\"dni-plaintext\"><pre>False</pre></div></td></tr><tr><td>CustomAttributes</td><td><i>(empty)</i></td></tr></tbody></table></div></details></td></tr><tr><td>ReturnParameter</td><td><details class=\"dni-treeview\"><summary><span class=\"dni-code-hint\"><code>Void</code></span></summary><div><table><thead><tr></tr></thead><tbody><tr><td>ParameterType</td><td><span><a href=\"https://docs.microsoft.com/dotnet/api/system.void?view=net-7.0\">System.Void</a></span></td></tr><tr><td>Name</td><td><div class=\"dni-plaintext\"><pre>&lt;null&gt;</pre></div></td></tr><tr><td>HasDefaultValue</td><td><div class=\"dni-plaintext\"><pre>False</pre></div></td></tr><tr><td>DefaultValue</td><td><details class=\"dni-treeview\"><summary><span class=\"dni-code-hint\"><code></code></span></summary><div><table><thead><tr></tr></thead><tbody></tbody></table></div></details></td></tr><tr><td>RawDefaultValue</td><td><details class=\"dni-treeview\"><summary><span class=\"dni-code-hint\"><code></code></span></summary><div><table><thead><tr></tr></thead><tbody></tbody></table></div></details></td></tr><tr><td>MetadataToken</td><td><div class=\"dni-plaintext\"><pre>134217728</pre></div></td></tr><tr><td>Attributes</td><td><span>None</span></td></tr><tr><td>Member</td><td><details class=\"dni-treeview\"><summary><span class=\"dni-code-hint\"><code>Void &lt;&lt;Initialize&gt;&gt;b__0_0(Int32)</code></span></summary><div><table><thead><tr></tr></thead><tbody><tr><td>Name</td><td><div class=\"dni-plaintext\"><pre>&lt;&lt;Initialize&gt;&gt;b__0_0</pre></div></td></tr><tr><td>DeclaringType</td><td>Submission#14+&lt;&gt;c</td></tr><tr><td>ReflectedType</td><td>Submission#14+&lt;&gt;c</td></tr><tr><td>MemberType</td><td><span>Method</span></td></tr><tr><td>MetadataToken</td><td><div class=\"dni-plaintext\"><pre>100663305</pre></div></td></tr><tr><td>Module</td><td><details class=\"dni-treeview\"><summary><span class=\"dni-code-hint\"><code>ℛ*9128019d-e8e7-4863-a424-3ac31f004cad#1-14.dll</code></span></summary><div><table><thead><tr></tr></thead><tbody><tr><td>MDStreamVersion</td><td><div class=\"dni-plaintext\"><pre>131072</pre></div></td></tr><tr><td>FullyQualifiedName</td><td><div class=\"dni-plaintext\"><pre>&lt;Unknown&gt;</pre></div></td></tr><tr><td>ModuleVersionId</td><td><div class=\"dni-plaintext\"><pre>e3557b8d-cb2a-400a-9374-03c927c19d2b</pre></div></td></tr><tr><td>MetadataToken</td><td><div class=\"dni-plaintext\"><pre>1</pre></div></td></tr><tr><td>ScopeName</td><td><div class=\"dni-plaintext\"><pre>ℛ*9128019d-e8e7-4863-a424-3ac31f004cad#1-14.dll</pre></div></td></tr><tr><td>Name</td><td><div class=\"dni-plaintext\"><pre>&lt;Unknown&gt;</pre></div></td></tr><tr><td>Assembly</td><td><details class=\"dni-treeview\"><summary><span class=\"dni-code-hint\"><code>ℛ*9128019d-e8e7-4863-a424-3ac31f004cad#1-14, Version=0.0.0.0, Culture=neutral, PublicKeyToken=null</code></span></summary><div><table><thead><tr></tr></thead><tbody><tr><td>CodeBase</td><td>file:///C:/Program Files/dotnet/shared/Microsoft.NETCore.App/9.0.1/System.Private.CoreLib.dll</td></tr><tr><td>FullName</td><td>ℛ*9128019d-e8e7-4863-a424-3ac31f004cad#1-14, Version=0.0.0.0, Culture=neutral, PublicKeyToken=null</td></tr><tr><td>EntryPoint</td><td><div class=\"dni-plaintext\"><pre>&lt;null&gt;</pre></div></td></tr><tr><td>DefinedTypes</td><td>[ Submission#14, Submission#14+<<Initialize>>d__0, Submission#14+<>c ]</td></tr><tr><td>IsCollectible</td><td>False</td></tr><tr><td>ManifestModule</td><td>ℛ*9128019d-e8e7-4863-a424-3ac31f004cad#1-14.dll</td></tr><tr><td>ReflectionOnly</td><td>False</td></tr><tr><td>Location</td><td></td></tr><tr><td>ImageRuntimeVersion</td><td>v4.0.30319</td></tr><tr><td>GlobalAssemblyCache</td><td>False</td></tr><tr><td>HostContext</td><td>0</td></tr><tr><td>IsDynamic</td><td>False</td></tr><tr><td>ExportedTypes</td><td>[ Submission#14, Submission#14+<<Initialize>>d__0, Submission#14+<>c ]</td></tr><tr><td>IsFullyTrusted</td><td>True</td></tr><tr><td>CustomAttributes</td><td>[ [System.Runtime.CompilerServices.CompilationRelaxationsAttribute((Int32)8)], [System.Runtime.CompilerServices.RuntimeCompatibilityAttribute(WrapNonExceptionThrows = True)], [System.Diagnostics.DebuggableAttribute((System.Diagnostics.DebuggableAttribute+DebuggingModes)263)] ]</td></tr><tr><td>EscapedCodeBase</td><td>file:///C:/Program%20Files/dotnet/shared/Microsoft.NETCore.App/9.0.1/System.Private.CoreLib.dll</td></tr><tr><td>Modules</td><td>[ ℛ*9128019d-e8e7-4863-a424-3ac31f004cad#1-14.dll ]</td></tr><tr><td>SecurityRuleSet</td><td>None</td></tr></tbody></table></div></details></td></tr><tr><td>ModuleHandle</td><td><details class=\"dni-treeview\"><summary><span class=\"dni-code-hint\"><code>System.ModuleHandle</code></span></summary><div><table><thead><tr></tr></thead><tbody><tr><td>MDStreamVersion</td><td>131072</td></tr></tbody></table></div></details></td></tr><tr><td>CustomAttributes</td><td><table><thead><tr><th><i>index</i></th><th>value</th></tr></thead><tbody><tr><td>0</td><td>[System.Security.UnverifiableCodeAttribute()]</td></tr><tr><td>1</td><td>[System.Runtime.CompilerServices.RefSafetyRulesAttribute((Int32)11)]</td></tr></tbody></table></td></tr></tbody></table></div></details></td></tr><tr><td>IsSecurityCritical</td><td><div class=\"dni-plaintext\"><pre>True</pre></div></td></tr><tr><td>IsSecuritySafeCritical</td><td><div class=\"dni-plaintext\"><pre>False</pre></div></td></tr><tr><td>IsSecurityTransparent</td><td><div class=\"dni-plaintext\"><pre>False</pre></div></td></tr><tr><td>MethodHandle</td><td><details class=\"dni-treeview\"><summary><span class=\"dni-code-hint\"><code>System.RuntimeMethodHandle</code></span></summary><div><table><thead><tr></tr></thead><tbody><tr><td>Value</td><td><div class=\"dni-plaintext\"><pre>140720596829400</pre></div></td></tr></tbody></table></div></details></td></tr><tr><td>Attributes</td><td><span>Public, HideBySig</span></td></tr><tr><td>CallingConvention</td><td><span>Standard, HasThis</span></td></tr><tr><td>ReturnType</td><td><span><a href=\"https://docs.microsoft.com/dotnet/api/system.void?view=net-7.0\">System.Void</a></span></td></tr><tr><td>ReturnTypeCustomAttributes</td><td><details class=\"dni-treeview\"><summary><span class=\"dni-code-hint\"><code>Void</code></span></summary><div><table><thead><tr></tr></thead><tbody><tr><td>ParameterType</td><td><span><a href=\"https://docs.microsoft.com/dotnet/api/system.void?view=net-7.0\">System.Void</a></span></td></tr><tr><td>Name</td><td><div class=\"dni-plaintext\"><pre>&lt;null&gt;</pre></div></td></tr><tr><td>HasDefaultValue</td><td><div class=\"dni-plaintext\"><pre>False</pre></div></td></tr><tr><td>DefaultValue</td><td><details class=\"dni-treeview\"><summary><span class=\"dni-code-hint\"><code></code></span></summary><div><table><thead><tr></tr></thead><tbody></tbody></table></div></details></td></tr><tr><td>RawDefaultValue</td><td><details class=\"dni-treeview\"><summary><span class=\"dni-code-hint\"><code></code></span></summary><div><table><thead><tr></tr></thead><tbody></tbody></table></div></details></td></tr><tr><td>MetadataToken</td><td><div class=\"dni-plaintext\"><pre>134217728</pre></div></td></tr><tr><td>Attributes</td><td><span>None</span></td></tr><tr><td>Member</td><td><details class=\"dni-treeview\"><summary><span class=\"dni-code-hint\"><code>Void &lt;&lt;Initialize&gt;&gt;b__0_0(Int32)</code></span></summary><div><table><thead><tr></tr></thead><tbody><tr><td>Name</td><td><<Initialize>>b__0_0</td></tr><tr><td>DeclaringType</td><td>Submission#14+<>c</td></tr><tr><td>ReflectedType</td><td>Submission#14+<>c</td></tr><tr><td>MemberType</td><td>Method</td></tr><tr><td>MetadataToken</td><td>100663305</td></tr><tr><td>Module</td><td>ℛ*9128019d-e8e7-4863-a424-3ac31f004cad#1-14.dll</td></tr><tr><td>IsSecurityCritical</td><td>True</td></tr><tr><td>IsSecuritySafeCritical</td><td>False</td></tr><tr><td>IsSecurityTransparent</td><td>False</td></tr><tr><td>MethodHandle</td><td>System.RuntimeMethodHandle</td></tr><tr><td>Attributes</td><td>Public, HideBySig</td></tr><tr><td>CallingConvention</td><td>Standard, HasThis</td></tr><tr><td>ReturnType</td><td>System.Void</td></tr><tr><td>ReturnTypeCustomAttributes</td><td>Void</td></tr><tr><td>ReturnParameter</td><td>Void</td></tr><tr><td>IsCollectible</td><td>False</td></tr><tr><td>IsGenericMethod</td><td>False</td></tr><tr><td>IsGenericMethodDefinition</td><td>False</td></tr><tr><td>ContainsGenericParameters</td><td>False</td></tr><tr><td>MethodImplementationFlags</td><td>IL</td></tr><tr><td>IsAbstract</td><td>False</td></tr><tr><td>IsConstructor</td><td>False</td></tr><tr><td>IsFinal</td><td>False</td></tr><tr><td>IsHideBySig</td><td>True</td></tr><tr><td>IsSpecialName</td><td>False</td></tr><tr><td>IsStatic</td><td>False</td></tr><tr><td>IsVirtual</td><td>False</td></tr><tr><td>IsAssembly</td><td>False</td></tr><tr><td>IsFamily</td><td>False</td></tr><tr><td>IsFamilyAndAssembly</td><td>False</td></tr><tr><td>IsFamilyOrAssembly</td><td>False</td></tr><tr><td>IsPrivate</td><td>False</td></tr><tr><td>IsPublic</td><td>True</td></tr><tr><td>IsConstructedGenericMethod</td><td>False</td></tr><tr><td>CustomAttributes</td><td>[  ]</td></tr></tbody></table></div></details></td></tr><tr><td>Position</td><td><div class=\"dni-plaintext\"><pre>-1</pre></div></td></tr><tr><td>IsIn</td><td><div class=\"dni-plaintext\"><pre>False</pre></div></td></tr><tr><td>IsLcid</td><td><div class=\"dni-plaintext\"><pre>False</pre></div></td></tr><tr><td>IsOptional</td><td><div class=\"dni-plaintext\"><pre>False</pre></div></td></tr><tr><td>IsOut</td><td><div class=\"dni-plaintext\"><pre>False</pre></div></td></tr><tr><td>IsRetval</td><td><div class=\"dni-plaintext\"><pre>False</pre></div></td></tr><tr><td>CustomAttributes</td><td><i>(empty)</i></td></tr></tbody></table></div></details></td></tr><tr><td>ReturnParameter</td><td><details class=\"dni-treeview\"><summary><span class=\"dni-code-hint\"><code>Void</code></span></summary><div><table><thead><tr></tr></thead><tbody><tr><td>ParameterType</td><td><span><a href=\"https://docs.microsoft.com/dotnet/api/system.void?view=net-7.0\">System.Void</a></span></td></tr><tr><td>Name</td><td><div class=\"dni-plaintext\"><pre>&lt;null&gt;</pre></div></td></tr><tr><td>HasDefaultValue</td><td><div class=\"dni-plaintext\"><pre>False</pre></div></td></tr><tr><td>DefaultValue</td><td><details class=\"dni-treeview\"><summary><span class=\"dni-code-hint\"><code></code></span></summary><div><table><thead><tr></tr></thead><tbody></tbody></table></div></details></td></tr><tr><td>RawDefaultValue</td><td><details class=\"dni-treeview\"><summary><span class=\"dni-code-hint\"><code></code></span></summary><div><table><thead><tr></tr></thead><tbody></tbody></table></div></details></td></tr><tr><td>MetadataToken</td><td><div class=\"dni-plaintext\"><pre>134217728</pre></div></td></tr><tr><td>Attributes</td><td><span>None</span></td></tr><tr><td>Member</td><td><details class=\"dni-treeview\"><summary><span class=\"dni-code-hint\"><code>Void &lt;&lt;Initialize&gt;&gt;b__0_0(Int32)</code></span></summary><div><table><thead><tr></tr></thead><tbody><tr><td>Name</td><td><<Initialize>>b__0_0</td></tr><tr><td>DeclaringType</td><td>Submission#14+<>c</td></tr><tr><td>ReflectedType</td><td>Submission#14+<>c</td></tr><tr><td>MemberType</td><td>Method</td></tr><tr><td>MetadataToken</td><td>100663305</td></tr><tr><td>Module</td><td>ℛ*9128019d-e8e7-4863-a424-3ac31f004cad#1-14.dll</td></tr><tr><td>IsSecurityCritical</td><td>True</td></tr><tr><td>IsSecuritySafeCritical</td><td>False</td></tr><tr><td>IsSecurityTransparent</td><td>False</td></tr><tr><td>MethodHandle</td><td>System.RuntimeMethodHandle</td></tr><tr><td>Attributes</td><td>Public, HideBySig</td></tr><tr><td>CallingConvention</td><td>Standard, HasThis</td></tr><tr><td>ReturnType</td><td>System.Void</td></tr><tr><td>ReturnTypeCustomAttributes</td><td>Void</td></tr><tr><td>ReturnParameter</td><td>Void</td></tr><tr><td>IsCollectible</td><td>False</td></tr><tr><td>IsGenericMethod</td><td>False</td></tr><tr><td>IsGenericMethodDefinition</td><td>False</td></tr><tr><td>ContainsGenericParameters</td><td>False</td></tr><tr><td>MethodImplementationFlags</td><td>IL</td></tr><tr><td>IsAbstract</td><td>False</td></tr><tr><td>IsConstructor</td><td>False</td></tr><tr><td>IsFinal</td><td>False</td></tr><tr><td>IsHideBySig</td><td>True</td></tr><tr><td>IsSpecialName</td><td>False</td></tr><tr><td>IsStatic</td><td>False</td></tr><tr><td>IsVirtual</td><td>False</td></tr><tr><td>IsAssembly</td><td>False</td></tr><tr><td>IsFamily</td><td>False</td></tr><tr><td>IsFamilyAndAssembly</td><td>False</td></tr><tr><td>IsFamilyOrAssembly</td><td>False</td></tr><tr><td>IsPrivate</td><td>False</td></tr><tr><td>IsPublic</td><td>True</td></tr><tr><td>IsConstructedGenericMethod</td><td>False</td></tr><tr><td>CustomAttributes</td><td>[  ]</td></tr></tbody></table></div></details></td></tr><tr><td>Position</td><td><div class=\"dni-plaintext\"><pre>-1</pre></div></td></tr><tr><td>IsIn</td><td><div class=\"dni-plaintext\"><pre>False</pre></div></td></tr><tr><td>IsLcid</td><td><div class=\"dni-plaintext\"><pre>False</pre></div></td></tr><tr><td>IsOptional</td><td><div class=\"dni-plaintext\"><pre>False</pre></div></td></tr><tr><td>IsOut</td><td><div class=\"dni-plaintext\"><pre>False</pre></div></td></tr><tr><td>IsRetval</td><td><div class=\"dni-plaintext\"><pre>False</pre></div></td></tr><tr><td>CustomAttributes</td><td><i>(empty)</i></td></tr></tbody></table></div></details></td></tr><tr><td>IsCollectible</td><td><div class=\"dni-plaintext\"><pre>False</pre></div></td></tr><tr><td>IsGenericMethod</td><td><div class=\"dni-plaintext\"><pre>False</pre></div></td></tr><tr><td>IsGenericMethodDefinition</td><td><div class=\"dni-plaintext\"><pre>False</pre></div></td></tr><tr><td>ContainsGenericParameters</td><td><div class=\"dni-plaintext\"><pre>False</pre></div></td></tr><tr><td>MethodImplementationFlags</td><td><span>IL</span></td></tr><tr><td>IsAbstract</td><td><div class=\"dni-plaintext\"><pre>False</pre></div></td></tr><tr><td>IsConstructor</td><td><div class=\"dni-plaintext\"><pre>False</pre></div></td></tr><tr><td>IsFinal</td><td><div class=\"dni-plaintext\"><pre>False</pre></div></td></tr><tr><td>IsHideBySig</td><td><div class=\"dni-plaintext\"><pre>True</pre></div></td></tr><tr><td>IsSpecialName</td><td><div class=\"dni-plaintext\"><pre>False</pre></div></td></tr><tr><td>IsStatic</td><td><div class=\"dni-plaintext\"><pre>False</pre></div></td></tr><tr><td>IsVirtual</td><td><div class=\"dni-plaintext\"><pre>False</pre></div></td></tr><tr><td>IsAssembly</td><td><div class=\"dni-plaintext\"><pre>False</pre></div></td></tr><tr><td>IsFamily</td><td><div class=\"dni-plaintext\"><pre>False</pre></div></td></tr><tr><td>IsFamilyAndAssembly</td><td><div class=\"dni-plaintext\"><pre>False</pre></div></td></tr><tr><td>IsFamilyOrAssembly</td><td><div class=\"dni-plaintext\"><pre>False</pre></div></td></tr><tr><td>IsPrivate</td><td><div class=\"dni-plaintext\"><pre>False</pre></div></td></tr><tr><td>IsPublic</td><td><div class=\"dni-plaintext\"><pre>True</pre></div></td></tr><tr><td>IsConstructedGenericMethod</td><td><div class=\"dni-plaintext\"><pre>False</pre></div></td></tr><tr><td>CustomAttributes</td><td><i>(empty)</i></td></tr></tbody></table></div></details></td></tr><tr><td>Position</td><td><div class=\"dni-plaintext\"><pre>-1</pre></div></td></tr><tr><td>IsIn</td><td><div class=\"dni-plaintext\"><pre>False</pre></div></td></tr><tr><td>IsLcid</td><td><div class=\"dni-plaintext\"><pre>False</pre></div></td></tr><tr><td>IsOptional</td><td><div class=\"dni-plaintext\"><pre>False</pre></div></td></tr><tr><td>IsOut</td><td><div class=\"dni-plaintext\"><pre>False</pre></div></td></tr><tr><td>IsRetval</td><td><div class=\"dni-plaintext\"><pre>False</pre></div></td></tr><tr><td>CustomAttributes</td><td><i>(empty)</i></td></tr></tbody></table></div></details></td></tr><tr><td>IsCollectible</td><td><div class=\"dni-plaintext\"><pre>False</pre></div></td></tr><tr><td>IsGenericMethod</td><td><div class=\"dni-plaintext\"><pre>False</pre></div></td></tr><tr><td>IsGenericMethodDefinition</td><td><div class=\"dni-plaintext\"><pre>False</pre></div></td></tr><tr><td>ContainsGenericParameters</td><td><div class=\"dni-plaintext\"><pre>False</pre></div></td></tr><tr><td>MethodImplementationFlags</td><td><span>IL</span></td></tr><tr><td>IsAbstract</td><td><div class=\"dni-plaintext\"><pre>False</pre></div></td></tr><tr><td>IsConstructor</td><td><div class=\"dni-plaintext\"><pre>False</pre></div></td></tr><tr><td>IsFinal</td><td><div class=\"dni-plaintext\"><pre>False</pre></div></td></tr><tr><td>IsHideBySig</td><td><div class=\"dni-plaintext\"><pre>True</pre></div></td></tr><tr><td>IsSpecialName</td><td><div class=\"dni-plaintext\"><pre>False</pre></div></td></tr><tr><td>IsStatic</td><td><div class=\"dni-plaintext\"><pre>False</pre></div></td></tr><tr><td>IsVirtual</td><td><div class=\"dni-plaintext\"><pre>False</pre></div></td></tr><tr><td>IsAssembly</td><td><div class=\"dni-plaintext\"><pre>False</pre></div></td></tr><tr><td>IsFamily</td><td><div class=\"dni-plaintext\"><pre>False</pre></div></td></tr><tr><td>IsFamilyAndAssembly</td><td><div class=\"dni-plaintext\"><pre>False</pre></div></td></tr><tr><td>IsFamilyOrAssembly</td><td><div class=\"dni-plaintext\"><pre>False</pre></div></td></tr><tr><td>IsPrivate</td><td><div class=\"dni-plaintext\"><pre>False</pre></div></td></tr><tr><td>IsPublic</td><td><div class=\"dni-plaintext\"><pre>True</pre></div></td></tr><tr><td>IsConstructedGenericMethod</td><td><div class=\"dni-plaintext\"><pre>False</pre></div></td></tr><tr><td>CustomAttributes</td><td><i>(empty)</i></td></tr></tbody></table></div></details></td></tr></tbody></table></div></details><style>\r\n",
       ".dni-code-hint {\r\n",
       "    font-style: italic;\r\n",
       "    overflow: hidden;\r\n",
       "    white-space: nowrap;\r\n",
       "}\r\n",
       ".dni-treeview {\r\n",
       "    white-space: nowrap;\r\n",
       "}\r\n",
       ".dni-treeview td {\r\n",
       "    vertical-align: top;\r\n",
       "    text-align: start;\r\n",
       "}\r\n",
       "details.dni-treeview {\r\n",
       "    padding-left: 1em;\r\n",
       "}\r\n",
       "table td {\r\n",
       "    text-align: start;\r\n",
       "}\r\n",
       "table tr { \r\n",
       "    vertical-align: top; \r\n",
       "    margin: 0em 0px;\r\n",
       "}\r\n",
       "table tr td pre \r\n",
       "{ \r\n",
       "    vertical-align: top !important; \r\n",
       "    margin: 0em 0px !important;\r\n",
       "} \r\n",
       "table th {\r\n",
       "    text-align: start;\r\n",
       "}\r\n",
       "</style>"
      ]
     },
     "metadata": {},
     "output_type": "display_data"
    }
   ],
   "source": [
    "var objeto1 = delegate(int x){ Console.WriteLine(x); };\n",
    "objeto1.Invoke(42);\n",
    "objeto1.Display()"
   ]
  },
  {
   "cell_type": "markdown",
   "metadata": {},
   "source": [
    "En este caso _objeto1_ se inicializa con la instruccion _delegate_ en lugar de _new_. Esta clase de objetos reciben el metodo en su constructor (todo lo que sigue despues de la palabra _delegate_) y lo ejecutan en respuesta a el mensaje _Invoke_. Como puedes ver tambien responden a otros mensajes como _Display_. Otro ejemplo seria: "
   ]
  },
  {
   "cell_type": "code",
   "execution_count": 36,
   "metadata": {
    "vscode": {
     "languageId": "polyglot-notebook"
    }
   },
   "outputs": [
    {
     "name": "stdout",
     "output_type": "stream",
     "text": [
      "3"
     ]
    }
   ],
   "source": [
    "int[] unArreglo = [1,2,3];\n",
    "Console.Write(unArreglo[2]);"
   ]
  },
  {
   "cell_type": "markdown",
   "metadata": {},
   "source": [
    "Ves la instruccion _new_ en algun lado? esta forma de crear objetos se llama creacion literal. Es lo mismo con los numeros y los strings en C#."
   ]
  },
  {
   "cell_type": "code",
   "execution_count": 42,
   "metadata": {
    "vscode": {
     "languageId": "polyglot-notebook"
    }
   },
   "outputs": [
    {
     "name": "stdout",
     "output_type": "stream",
     "text": [
      "42\n",
      "HOLA MUNDO\n"
     ]
    }
   ],
   "source": [
    "var numero = 42;\n",
    "Console.WriteLine(numero.ToString());\n",
    "\n",
    "var saludo = \"Hola Mundo\";\n",
    "Console.WriteLine(saludo.ToUpper());"
   ]
  },
  {
   "cell_type": "markdown",
   "metadata": {},
   "source": [
    "Como puedes ver numero y saludo responden a mensajes (ToString y ToUpper en este caso), pero no vemos la instruccion _new_ en su creacion. "
   ]
  },
  {
   "cell_type": "markdown",
   "metadata": {},
   "source": [
    "## Resumen"
   ]
  },
  {
   "cell_type": "markdown",
   "metadata": {},
   "source": [
    "Un modelo de objetos puede ser diseñado e implementado en cualquier lenguaje que soporte el paradigma orientado a objetos si nos enfocamos en los 2 conceptos esenciales del paradigma: objetos y mensajes.\n",
    "Al definir un objeto como una cosa que acepta mensajes, nos liberamos de las diferentes formas de implementacion que varian de un lenguaje a otro. Estos detalles de implementacion imponen una restriccion artificial en nuestro pensamiento, ya que vienen de los lenguajes y no del paradigma en si. Asi que la proxima vez que trabajes en un lenguaje orientado a objetos, preguntate: es esto relevante para el diseño del modelo?"
   ]
  }
 ],
 "metadata": {
  "kernelspec": {
   "display_name": ".NET (C#)",
   "language": "C#",
   "name": ".net-csharp"
  },
  "language_info": {
   "name": "python"
  },
  "polyglot_notebook": {
   "kernelInfo": {
    "defaultKernelName": "csharp",
    "items": [
     {
      "aliases": [],
      "name": "csharp"
     }
    ]
   }
  }
 },
 "nbformat": 4,
 "nbformat_minor": 2
}
