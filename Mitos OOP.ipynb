{
 "cells": [
  {
   "cell_type": "markdown",
   "metadata": {},
   "source": [
    "## Objetos = datos + codigo"
   ]
  },
  {
   "cell_type": "markdown",
   "metadata": {},
   "source": [
    "Quiza una de las ideas mas dañinas para el diseño orientado objetos, es la definicion de un objeto como una estructura de datos con funciones. Aunque este sea el caso a nivel de implementacion, esta concepcion de un objeto limita mucho nuestra forma de pensar y por lo tanto de diseñar un sistema orientado a objetos. Una forma mas util es pensar en un objeto como una cosa que recibe mensajes. Despues de todo esa era la idea de Alan Kay cuando creo el termino programacion orientada a objetos. Por ejemplo, en la siguiente declaracion en C#:"
   ]
  },
  {
   "cell_type": "code",
   "execution_count": 5,
   "metadata": {
    "dotnet_interactive": {
     "language": "csharp"
    },
    "polyglot_notebook": {
     "kernelName": "csharp"
    },
    "vscode": {
     "languageId": "polyglot-notebook"
    }
   },
   "outputs": [],
   "source": [
    "int numero = 42;\n",
    "\n",
    "numero.ToString(); "
   ]
  },
  {
   "cell_type": "markdown",
   "metadata": {},
   "source": [
    "La gente tiende a pensar que __numero__ es un dato. Sin embargo en la proxima linea vemos que recibe el mensaje ToString! __numero__ es un objeto! un objeto que representa un dato, pero un objeto al final de cuentas. Por otro lado, algo como:"
   ]
  },
  {
   "cell_type": "code",
   "execution_count": 6,
   "metadata": {
    "dotnet_interactive": {
     "language": "csharp"
    },
    "polyglot_notebook": {
     "kernelName": "csharp"
    },
    "vscode": {
     "languageId": "polyglot-notebook"
    }
   },
   "outputs": [],
   "source": [
    "Delegate range = Enumerable.Range;\n",
    "\n",
    "range.DynamicInvoke(1, 10);"
   ]
  },
  {
   "cell_type": "markdown",
   "metadata": {},
   "source": [
    "...es un objeto que representa codigo. Sin embargo la mayoria de la gente usa el concepto de puntero como una forma de explicar delegates en C#. Por que? Por que para ellos un objeto = datos + codigo. Cualquiera cosa fuera de esa definicion no es un objeto para ellos. Por cierto, asi es como se ve un puntero en C#:"
   ]
  },
  {
   "cell_type": "code",
   "execution_count": 7,
   "metadata": {
    "dotnet_interactive": {
     "language": "csharp"
    },
    "polyglot_notebook": {
     "kernelName": "csharp"
    },
    "vscode": {
     "languageId": "polyglot-notebook"
    }
   },
   "outputs": [],
   "source": [
    "unsafe\n",
    "{\n",
    "    int number = 42;\n",
    "\tint* p = &number;\n",
    "}"
   ]
  },
  {
   "cell_type": "markdown",
   "metadata": {},
   "source": [
    "Como puedes ver, la idea de datos y codigo queda abstraida bajo un solo concepto: objeto."
   ]
  },
  {
   "cell_type": "markdown",
   "metadata": {},
   "source": [
    "Igual de importante es que la idea del _flujo de control_ queda abstraida bajo el concepto de _mensaje_. Esto significa que cuando diseñamos un modelo de objetos, no pensamos en el flujo de datos entre modulos y funciones, sino en un flujo de mensajes entre diferentes objetos. Observa el siguiente diagrama:"
   ]
  },
  {
   "cell_type": "code",
   "execution_count": 27,
   "metadata": {
    "dotnet_interactive": {
     "language": "mermaid"
    },
    "polyglot_notebook": {
     "kernelName": "mermaid"
    },
    "vscode": {
     "languageId": "polyglot-notebook"
    }
   },
   "outputs": [
    {
     "data": {
      "text/html": [
       "<div class=\"mermaidMarkdownContainer\" style=\"background-color:white\">\r\n",
       "<link rel=\"stylesheet\" href=\"https://cdnjs.cloudflare.com/ajax/libs/font-awesome/6.2.0/css/all.min.css\">\r\n",
       "<div id=\"4456bd4f0d774863877e9836a17511e4\"></div>\r\n",
       "<script type=\"module\">\r\n",
       "\r\n",
       "            import mermaid from 'https://cdn.jsdelivr.net/npm/mermaid@10.6.1/dist/mermaid.esm.min.mjs';\r\n",
       "            let renderTarget = document.getElementById('4456bd4f0d774863877e9836a17511e4');\r\n",
       "            try {\r\n",
       "                const {svg, bindFunctions} = await mermaid.mermaidAPI.render( \r\n",
       "                    'mermaid_4456bd4f0d774863877e9836a17511e4', \r\n",
       "                    `sequenceDiagram\r\n",
       "    Cajero->>Banco: Abrir cuenta\r\n",
       "    Banco->>Cajero: Cuenta abierta\r\n",
       "    Cajero->>Mensajero: Notificar cuenta abierta\r\n",
       "    Mensajero->>Cajero: Notificacion enviada `);\r\n",
       "                renderTarget.innerHTML = svg;\r\n",
       "                bindFunctions?.(renderTarget);\r\n",
       "            }\r\n",
       "            catch (error) {\r\n",
       "                console.log(error);\r\n",
       "            }\r\n",
       "</script>\r\n",
       "</div>\r\n"
      ]
     },
     "metadata": {},
     "output_type": "display_data"
    }
   ],
   "source": [
    "sequenceDiagram\n",
    "    Cajero->>Banco: Abrir cuenta\n",
    "    Banco->>Cajero: Cuenta abierta\n",
    "    Cajero->>Mensajero: Notificar cuenta abierta\n",
    "    Mensajero->>Cajero: Notificacion enviada "
   ]
  },
  {
   "cell_type": "markdown",
   "metadata": {},
   "source": [
    "Pon atencion en los mensajes y el orden. Esa es la estructura del programa. Los objetos son reemplazables. "
   ]
  },
  {
   "cell_type": "code",
   "execution_count": 28,
   "metadata": {
    "dotnet_interactive": {
     "language": "mermaid"
    },
    "polyglot_notebook": {
     "kernelName": "mermaid"
    },
    "vscode": {
     "languageId": "polyglot-notebook"
    }
   },
   "outputs": [
    {
     "data": {
      "text/html": [
       "<div class=\"mermaidMarkdownContainer\" style=\"background-color:white\">\r\n",
       "<link rel=\"stylesheet\" href=\"https://cdnjs.cloudflare.com/ajax/libs/font-awesome/6.2.0/css/all.min.css\">\r\n",
       "<div id=\"4161f459a2b14e809c5ae8c34348e058\"></div>\r\n",
       "<script type=\"module\">\r\n",
       "\r\n",
       "            import mermaid from 'https://cdn.jsdelivr.net/npm/mermaid@10.6.1/dist/mermaid.esm.min.mjs';\r\n",
       "            let renderTarget = document.getElementById('4161f459a2b14e809c5ae8c34348e058');\r\n",
       "            try {\r\n",
       "                const {svg, bindFunctions} = await mermaid.mermaidAPI.render( \r\n",
       "                    'mermaid_4161f459a2b14e809c5ae8c34348e058', \r\n",
       "                    `sequenceDiagram\r\n",
       "    ServicioCliente->>EmpresaTelefonica: Abrir cuenta\r\n",
       "    EmpresaTelefonica->>ServicioCliente: Cuenta abierta\r\n",
       "    ServicioCliente->>ServidorEmail: Notificar cuenta abierta\r\n",
       "    ServidorEmail->>ServicioCliente: Notificacion enviada `);\r\n",
       "                renderTarget.innerHTML = svg;\r\n",
       "                bindFunctions?.(renderTarget);\r\n",
       "            }\r\n",
       "            catch (error) {\r\n",
       "                console.log(error);\r\n",
       "            }\r\n",
       "</script>\r\n",
       "</div>\r\n"
      ]
     },
     "metadata": {},
     "output_type": "display_data"
    }
   ],
   "source": [
    "sequenceDiagram\n",
    "    ServicioCliente->>EmpresaTelefonica: Abrir cuenta\n",
    "    EmpresaTelefonica->>ServicioCliente: Cuenta abierta\n",
    "    ServicioCliente->>ServidorEmail: Notificar cuenta abierta\n",
    "    ServidorEmail->>ServicioCliente: Notificacion enviada "
   ]
  },
  {
   "cell_type": "markdown",
   "metadata": {},
   "source": [
    "Este cambio de pensamiento de procedimientos a interacciones es quiza la tarea mas dificil para hacer la transicion al paradigma orientado a objetos. Pero no te desanimes! Estoy para ayudarte"
   ]
  },
  {
   "cell_type": "markdown",
   "metadata": {},
   "source": [
    "## Metodos = mensajes"
   ]
  },
  {
   "cell_type": "markdown",
   "metadata": {},
   "source": [
    "El paradigma de programacion orientada a objetos (como se definio originalmente por Alan Kay) solo tiene 2 conceptos: objetos y mensajes. Eso es todo lo que se necesita para _diseñar_ un modelo de objetos. Sin embargo en los lenguajes que soportan ese paradigma, se necesitan algunos conceptos adicionales. Estos son detalles de implementacion especificos al lenguaje, pero suelen confundirse con el paradigma en si. Uno de estos detalles es el concepto de metodo. Un metodo no es otra cosa que una pieza de codigo que es ejecutada en respuesta a un mensaje. Para simplificar la implementacion la mayoria de los lenguajes siguen una convencion sencilla: implementar una funcion publica en una clase. Tristemente esta implementacion ha llevado a muchos programadores a pensar que los mensajes y los metodos son los mismo. Para demostrarte que no es el caso, observa el siguiente codigo en C#:"
   ]
  },
  {
   "cell_type": "code",
   "execution_count": null,
   "metadata": {
    "vscode": {
     "languageId": "csharp"
    }
   },
   "outputs": [],
   "source": [
    "interface IDoSomething\n",
    "{\n",
    "    void Message1();\n",
    "    void Message2();\n",
    "}"
   ]
  },
  {
   "cell_type": "markdown",
   "metadata": {},
   "source": [
    "Como puedes ver, no hay codigo que se ejecute aqui. No hay _metodos_. Lo unico que encuentras son los mensajes. Una interface es solo una implementacion de la idea de contrato: una lista de mensajes que un objeto esta obligado a aceptar. Ahora mira:"
   ]
  },
  {
   "cell_type": "code",
   "execution_count": null,
   "metadata": {
    "vscode": {
     "languageId": "csharp"
    }
   },
   "outputs": [],
   "source": [
    "class DoSomething: IDoSomething\n",
    "{\n",
    "    public void Message1()\n",
    "    {\n",
    "        Console.WriteLine(\"Message1\");\n",
    "    }\n",
    "\n",
    "    public void Message2()\n",
    "    {\n",
    "        Console.WriteLine(\"Message2\");\n",
    "    }\n",
    "}"
   ]
  },
  {
   "cell_type": "markdown",
   "metadata": {},
   "source": [
    "Ahora si tenemos metodos: hay codigo que se ejecuta en respuesta a los mensajes definidos en la interface IDoSomething. Para efectos practicos podemos pensar en la _firma_ de la funcion como el _mensaje_ y en el _cuerpo_ como el _metodo_."
   ]
  },
  {
   "cell_type": "markdown",
   "metadata": {},
   "source": [
    "Esto es mas claro en lenguajes dinamicos. Observa el siguiente codigo en python:"
   ]
  },
  {
   "cell_type": "code",
   "execution_count": null,
   "metadata": {},
   "outputs": [],
   "source": [
    "class Perro:\n",
    "    def ladra(objeto):\n",
    "        print(f'{objeto} está ladrando...')\n",
    "\n",
    "pulgoso = Perro()\n",
    "pulgoso.ladra()"
   ]
  },
  {
   "cell_type": "markdown",
   "metadata": {},
   "source": [
    "Pon atencion en como el metodo ladra recibe un objeto, pero al enviar el mensaje pulgoso.ladra() no estamos pasando ningun argumento. El _runtime_ se encarga de eso. Lo que quiere decir que no _invocamos un metodo_ directamente. El runtime se encarga de ubicar el metodo asignado a ese mensaje y ejecutarlo con los argumentos necesarios. Eso pasa con muchos lenguajes pero de manera automatica. Normalmente el argumento se almacena en una variable llamada _this_ o _self_."
   ]
  },
  {
   "cell_type": "markdown",
   "metadata": {},
   "source": [
    "## Todos los objetos tienen clases"
   ]
  },
  {
   "cell_type": "markdown",
   "metadata": {},
   "source": [
    "Otra de las cosas que causa interferencia en el pensamiento orientado a objetos es la idea de que un objeto debe tener un una clase. Esto nos limita al pensar que si no tiene una clase, no es un objeto. Un ejemplo claro de que esto no es cierto lo encontramos en lenguajes como self y javascript."
   ]
  },
  {
   "cell_type": "code",
   "execution_count": null,
   "metadata": {
    "vscode": {
     "languageId": "javascript"
    }
   },
   "outputs": [],
   "source": [
    "perro = {\n",
    "    ladra: function() { console.log(\"barf barf\") }\n",
    "}\n",
    "\n",
    "perro.ladra()"
   ]
  },
  {
   "cell_type": "markdown",
   "metadata": {},
   "source": [
    "Recordemos que un objeto es una cosa que responde a mensajes. En este caso 'perro' responde al mensaje 'ladra'. Asi que estamos frente a un objeto hecho y derecho."
   ]
  },
  {
   "cell_type": "markdown",
   "metadata": {},
   "source": [
    "Las clases, son _clases de objetos_ o sea que son un mecanismo para _clasificar_ a ciertos objetos que responden a un un grupo de mensajes: un contrato. Convenientemente, el codigo ejecutado en respuesta a esos eventos (metodos) tambien vive ahi. Pero esto no es necesario. Desafortunadamente muchos lenguajes definen clases como la unica forma de crear un objeto, lo que limita nuestra concepcion de lo que es un objeto (una instancia de una clase vs algo que responde mensajes), su creacion y la ubicacion de sus metodos."
   ]
  },
  {
   "cell_type": "markdown",
   "metadata": {},
   "source": [
    "## Todos los metodos viven en clases"
   ]
  },
  {
   "cell_type": "markdown",
   "metadata": {},
   "source": [
    "## Todos los objetos se crean con 'new'"
   ]
  }
 ],
 "metadata": {
  "kernelspec": {
   "display_name": ".NET (C#)",
   "language": "C#",
   "name": ".net-csharp"
  },
  "language_info": {
   "name": "python"
  },
  "polyglot_notebook": {
   "kernelInfo": {
    "defaultKernelName": "csharp",
    "items": [
     {
      "aliases": [],
      "name": "csharp"
     }
    ]
   }
  }
 },
 "nbformat": 4,
 "nbformat_minor": 2
}
